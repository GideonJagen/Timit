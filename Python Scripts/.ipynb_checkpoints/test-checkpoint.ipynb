{
 "cells": [
  {
   "cell_type": "code",
   "execution_count": 19,
   "metadata": {},
   "outputs": [],
   "source": [
    "from pathlib import Path\n",
    "import pandas as pd\n",
    "import numpy as np\n",
    "import matplotlib.pyplot as plt\n",
    "import mpld3"
   ]
  },
  {
   "cell_type": "markdown",
   "metadata": {},
   "source": [
    "**Add column names**"
   ]
  },
  {
   "cell_type": "code",
   "execution_count": 2,
   "metadata": {},
   "outputs": [],
   "source": [
    "opkort = pd.read_csv(Path('../20210324/opkort.csv'), header=None, sep=';')\n",
    "opkort_gammal = pd.read_csv(Path('../inte_så_kul/res/gamla/op_kort_filt.csv'), sep=';')\n",
    "opkort.columns = opkort_gammal.columns\n",
    "opkort.to_csv(Path('../20210324/with_name/op_kort_namn.csv'))"
   ]
  },
  {
   "cell_type": "code",
   "execution_count": 3,
   "metadata": {},
   "outputs": [],
   "source": [
    "ingrepp = pd.read_csv(Path('../20210324/op_ingrepp.csv'), header=None, sep=';')\n",
    "ingrepp_gammal = pd.read_csv(Path('../inte_så_kul/res/gamla/ingrepp_ingrepp.csv'), sep=';')\n",
    "ingrepp.columns = ingrepp_gammal.columns\n",
    "ingrepp.to_csv(Path('../20210324/with_name/op_ingrepp_namn.csv'))"
   ]
  },
  {
   "cell_type": "code",
   "execution_count": 4,
   "metadata": {},
   "outputs": [],
   "source": [
    "diagnos = pd.read_csv(Path('../20210324/op_diagnos.csv'), header=None, sep=';')\n",
    "diagnos_gammal = pd.read_csv(Path('../inte_så_kul/res/gamla/ingrepp_diagnos.csv'), sep=';')\n",
    "diagnos.columns = diagnos_gammal.columns\n",
    "diagnos.to_csv(Path('../20210324/with_name/op_diagnos_namn.csv'))"
   ]
  },
  {
   "cell_type": "markdown",
   "metadata": {},
   "source": [
    "**LOAD DATA AND COMBINE INTO 1 DF**"
   ]
  },
  {
   "cell_type": "markdown",
   "metadata": {},
   "source": [
    "**Behandling**\n",
    "* Der_Behandling_PK\n",
    "* Der_Opkort_FK -> op_kort\n",
    "* Der_Anestesikort_FK -> Anestesikort (Har inte fått än)\n",
    "* Der_Vårdform_FK\n",
    "* Der_Prioritet_FK\n",
    "* BehandlingsStatus - Kanske behöver filtreras bort\n",
    "* ASAklass\n",
    "* Der_PeropUtskriventill_FK - Vad fan menas??\n",
    "* ForberedelsetidStartTidpunkt\n",
    "* ForberedelsetidSlutTidpunkt\n",
    "* PatientÅlderVidOp - står i dagar\n",
    "* Veckodag? kanske\n",
    "* Starttimme? kanske\n",
    "* BMI\n",
    "* Kroppslängd - del av BMI\n",
    "* Kroppsvikt - del av BMI\n",
    "\n",
    "**Op-kort** - Hur kopplas behandling till OP-kort (Tror inte att vi behöver någonting härifrån)\n",
    "* Der_Opkort_PK -> behandling\n",
    "* OpkortText - har en kod i början\n",
    "* OpkortUndergruppKod\n",
    "* OpkortHubudgruppKod\n",
    "* TidFöreMin - Är det kopplat till en behandling?\n",
    "\n",
    "**Op-ingrepp**\n",
    "* Der_Behandling_PK -> behandling\n",
    "* Ingreppskod - primär, kanske sekundär (se Primär_Sekundär)\n",
    "* Primär_Sekundär\n",
    "* Sida\n",
    "\n",
    "**Op-diagnos**\n",
    "* Der_Behandling_PK -> behandling\n",
    "* Diagnoskod - primär, kanske sekundär (se Primär_Sekundär)\n",
    "* Primär_Sekundär"
   ]
  },
  {
   "cell_type": "code",
   "execution_count": 20,
   "metadata": {},
   "outputs": [
    {
     "name": "stdout",
     "output_type": "stream",
     "text": [
      "Behandling length: 4581\n",
      "Ingrepp length: 4757\n",
      "Diagnos length: 4582\n",
      "Combined length: 4563\n"
     ]
    },
    {
     "name": "stderr",
     "output_type": "stream",
     "text": [
      "C:\\Users\\gidja1\\Anaconda3\\lib\\site-packages\\IPython\\core\\interactiveshell.py:3146: DtypeWarning: Columns (80,81) have mixed types.Specify dtype option on import or set low_memory=False.\n",
      "  has_raised = await self.run_ast_nodes(code_ast.body, cell_name,\n"
     ]
    }
   ],
   "source": [
    "# Lead behandling and select relevant columns\n",
    "behandling = pd.read_csv(Path('../20210324/with_name/behandling_optillfälle.csv'), sep=';')\n",
    "behandling = behandling[['Der_Behandling_PK',\n",
    "                         'Der_Opkort_FK',\n",
    "                         'Der_Anestesikort_FK',\n",
    "                         'Der_Vårdform_FK',\n",
    "                         'Der_Prioritet_FK',\n",
    "                         'BehandlingsStatus',\n",
    "                         'ASAklass',\n",
    "                         'ForberedelsetidStartTidpunkt',\n",
    "                         'ForberedelsetidSlutTidpunkt',\n",
    "                         'PatientÅlderVidOp',\n",
    "                         'Veckodag',\n",
    "                         'Starttimme',\n",
    "                         'BMI',\n",
    "                         'Kroppslängd',\n",
    "                         'Kroppsvikt',\n",
    "                        ]]\n",
    "behandling = behandling[behandling['BehandlingsStatus'] == 'Opererad'] # Remove 'abrutna' operationer as they do not contain all relevant data\n",
    "print(\"Behandling length: {}\".format(len(behandling)))\n",
    "\n",
    "# Load ingrepp and select relevant columns\n",
    "ingrepp = pd.read_csv(Path('../20210324/with_name/op_ingrepp_namn.csv'))\n",
    "ingrepp = ingrepp[['Der_Behandling_PK',\n",
    "                   'Ingreppkod',\n",
    "                   'Primär_Sekundär',\n",
    "                   'Sida',\n",
    "                  ]]\n",
    "ingrepp = ingrepp[ingrepp['Primär_Sekundär'] == 'Primär'] # Might want to include this if we make a more complicated model\n",
    "print(\"Ingrepp length: {}\".format(len(ingrepp)))\n",
    "\n",
    "# Load diagnos and select relevant columns\n",
    "diagnos = pd.read_csv(Path('../20210324/with_name/op_diagnos_namn.csv'))\n",
    "diagnos = diagnos[['Der_Behandling_PK',\n",
    "                   'Diagnoskod',\n",
    "                   'Primär_Sekundär',\n",
    "                  ]]\n",
    "diagnos = diagnos[diagnos['Primär_Sekundär'] == 'Primär'] # Might want to include this if we make a more complicated model\n",
    "print(\"Diagnos length: {}\".format(len(diagnos)))\n",
    "\n",
    "# Combine the data frames\n",
    "combined_df = behandling.merge(diagnos, on='Der_Behandling_PK').merge(ingrepp, on='Der_Behandling_PK')\n",
    "print(\"Combined length: {}\".format(len(combined_df)))"
   ]
  },
  {
   "cell_type": "markdown",
   "metadata": {},
   "source": [
    "**CALCULATE AND ADD PREOPTIME TO DATAFRAME**"
   ]
  },
  {
   "cell_type": "code",
   "execution_count": 21,
   "metadata": {
    "scrolled": true
   },
   "outputs": [
    {
     "name": "stdout",
     "output_type": "stream",
     "text": [
      "414\n",
      "0\n"
     ]
    }
   ],
   "source": [
    "# Bad algoritm for checking min and max time of förbereds\n",
    "start = combined_df[\"ForberedelsetidStartTidpunkt\"].dropna()\n",
    "slut = combined_df[\"ForberedelsetidSlutTidpunkt\"].dropna()\n",
    "\n",
    "start_times = []\n",
    "for time in start:\n",
    "    minn = int(time[-9:-7])\n",
    "    hour = int(time[-12:-10])\n",
    "    minutes = hour*60 + minn\n",
    "    start_times.append(minutes)\n",
    "    \n",
    "stop_times = []\n",
    "for time in slut:\n",
    "    minn = int(time[-9:-7])\n",
    "    hour = int(time[-12:-10])\n",
    "    minutes = hour*60 + minn\n",
    "    stop_times.append(minutes)\n",
    "\n",
    "times = []\n",
    "for i in range(len(start_times)):\n",
    "    #print(stop_times[i], start_times[i], stop_times[i] - start_times[i])\n",
    "    times.append(stop_times[i] - start_times[i])\n",
    "    \n",
    "print(max(times))\n",
    "print(min(times))\n",
    "\n",
    "# Add total time to dataframe\n",
    "combined_df['time'] = times"
   ]
  },
  {
   "cell_type": "markdown",
   "metadata": {},
   "source": [
    "**ASAKLASS**"
   ]
  },
  {
   "cell_type": "code",
   "execution_count": 9,
   "metadata": {},
   "outputs": [
    {
     "data": {
      "text/plain": [
       "Text(0.5, 1.0, 'ASAKLASS - Preoptid')"
      ]
     },
     "execution_count": 9,
     "metadata": {},
     "output_type": "execute_result"
    },
    {
     "data": {
      "image/png": "[encoded data removed]",
      "text/plain": [
       "<Figure size 432x288 with 1 Axes>"
      ]
     },
     "metadata": {
      "needs_background": "light"
     },
     "output_type": "display_data"
    }
   ],
   "source": [
    "asa_mean = []\n",
    "asa_std = []\n",
    "for i in range(6):\n",
    "    asa = combined_df[combined_df['ASAklass'] == i+1]\n",
    "    time = asa['time']\n",
    "    asa_mean.append(time.mean())\n",
    "    asa_std.append(time.std())\n",
    "    \n",
    "plt.errorbar(['1', '2', '3', '4', '5', '6'], asa_mean, asa_std, marker='o', linestyle='None', capsize=3)\n",
    "plt.xlabel('ASAklass')\n",
    "plt.ylabel('Preoptid')\n",
    "plt.title(\"ASAKLASS - Preoptid\")"
   ]
  },
  {
   "cell_type": "markdown",
   "metadata": {},
   "source": [
    "Nr of data points:\n",
    "* ASA 1 - 1935\n",
    "* ASA 2 - 1731\n",
    "* ASA 3 - 267\n",
    "* ASA 4 - 3"
   ]
  },
  {
   "cell_type": "markdown",
   "metadata": {},
   "source": [
    "**BMI, KROPPSVIKT, KROPPSLÄNGD**"
   ]
  },
  {
   "cell_type": "code",
   "execution_count": 10,
   "metadata": {},
   "outputs": [
    {
     "data": {
      "text/plain": [
       "<matplotlib.collections.PathCollection at 0x182bae395e0>"
      ]
     },
     "execution_count": 10,
     "metadata": {},
     "output_type": "execute_result"
    },
    {
     "data": {
      "image/png": "[encoded data removed]",
      "text/plain": [
       "<Figure size 432x288 with 2 Axes>"
      ]
     },
     "metadata": {
      "needs_background": "light"
     },
     "output_type": "display_data"
    },
    {
     "data": {
      "image/png": "[encoded data removed]",
      "text/plain": [
       "<Figure size 432x288 with 1 Axes>"
      ]
     },
     "metadata": {
      "needs_background": "light"
     },
     "output_type": "display_data"
    }
   ],
   "source": [
    "figure, axis = plt.subplots(1,2)\n",
    "axis[1].set_box_aspect(1)\n",
    "axis[0].set_box_aspect(1)\n",
    "\n",
    "axis[0].set_title('Kroppsvikt')\n",
    "axis[0].set_ylabel('Preoptid (min)')\n",
    "axis[0].set_xlabel('Kroppsvikt (kg)')\n",
    "\n",
    "axis[1].set_title('Kroppslängd')\n",
    "axis[1].set_xlabel('Kroppslängd (cm)')\n",
    "\n",
    "axis[0].scatter(combined_df['Kroppsvikt'], combined_df['time'])\n",
    "axis[1].scatter(combined_df['Kroppslängd'], combined_df['time'])\n",
    "\n",
    "figure2, axis2 = plt.subplots(1)\n",
    "axis2.set_title('BMI')\n",
    "axis2.set_ylabel('Preoptid (min)')\n",
    "axis2.set_xlabel('BMI (kg/m2)')\n",
    "axis2.scatter(combined_df['BMI'], combined_df['time'])"
   ]
  },
  {
   "cell_type": "markdown",
   "metadata": {},
   "source": [
    "**ÅLDER**"
   ]
  },
  {
   "cell_type": "code",
   "execution_count": 22,
   "metadata": {},
   "outputs": [
    {
     "data": {
      "text/plain": [
       "Text(0, 0.5, 'Preoptid (min)')"
      ]
     },
     "execution_count": 22,
     "metadata": {},
     "output_type": "execute_result"
    },
    {
     "data": {
      "image/png": "[encoded data removed]",
      "text/plain": [
       "<Figure size 1440x360 with 1 Axes>"
      ]
     },
     "metadata": {
      "needs_background": "light"
     },
     "output_type": "display_data"
    }
   ],
   "source": [
    "plt.scatter(combined_df['PatientÅlderVidOp']/365, combined_df['time'])\n",
    "plt.title('Ålder')\n",
    "plt.xlabel('Ålder (dagar)')\n",
    "plt.ylabel('Preoptid (min)')"
   ]
  },
  {
   "cell_type": "markdown",
   "metadata": {},
   "source": [
    "**VÅRDFORM**"
   ]
  },
  {
   "cell_type": "code",
   "execution_count": 23,
   "metadata": {},
   "outputs": [
    {
     "data": {
      "text/plain": [
       "<ErrorbarContainer object of 3 artists>"
      ]
     },
     "execution_count": 23,
     "metadata": {},
     "output_type": "execute_result"
    },
    {
     "data": {
      "image/png": "[encoded data removed]",
      "text/plain": [
       "<Figure size 1440x360 with 1 Axes>"
      ]
     },
     "metadata": {
      "needs_background": "light"
     },
     "output_type": "display_data"
    }
   ],
   "source": [
    "form_mean = []\n",
    "form_std = []\n",
    "for i in range(2):\n",
    "    form = combined_df[combined_df['Der_Vårdform_FK'] == i+1]\n",
    "    time = form['time']\n",
    "    form_mean.append(time.mean())\n",
    "    form_std.append(time.std())\n",
    "    \n",
    "plt.errorbar(['1','2'], form_mean, form_std, marker='o', linestyle='None', capsize=3)"
   ]
  },
  {
   "cell_type": "code",
   "execution_count": 11,
   "metadata": {},
   "outputs": [],
   "source": [
    "plt.rcParams[\"figure.figsize\"] = (20,5)"
   ]
  },
  {
   "cell_type": "code",
   "execution_count": 24,
   "metadata": {},
   "outputs": [
    {
     "name": "stdout",
     "output_type": "stream",
     "text": [
      "{'T840': 43, 'M258': 27, 'S5250': 468, 'T932': 194, 'M610': 1, 'M751': 42, 'M234': 34, 'S832': 105, 'S835R': 178, 'M248': 12, 'M796G': 46, 'M244B': 24, 'M235': 83, 'M232': 67, 'M672': 18, 'M628': 38, 'M204': 21, 'G802': 18, 'M911': 5, 'S8280': 28, 'M670': 1, 'M201': 25, 'M205': 23, 'M932H': 14, 'S6230': 45, 'S532': 3, 'S761': 26, 'S5200': 80, 'S520': 19, 'S461': 1, 'S8250': 17, 'S460': 64, 'S968': 1, 'S541': 1, 'Z896': 140, 'G824': 25, 'T841F': 8, 'G252': 1, 'G825': 65, 'T923': 4, 'Z892': 8, 'M181': 3, 'T924': 2, 'T925': 6, 'M623': 2, 'G811': 1, 'S860': 71, 'G809': 1, 'M720': 2, 'S527': 1, 'M841D': 1, 'G808': 1, 'S443': 1, 'M151': 1, 'G562': 6, 'G561': 1, 'T926': 1, 'S835': 30, 'M674H': 4, 'M244': 40, 'M796H': 35, 'M752': 8, 'M220': 16, 'M775': 3, 'S7230': 2, 'T841G': 26, 'M190B': 16, 'M674M': 1, 'M766': 2, 'S837': 27, 'M932': 7, 'M233': 13, 'S833M': 3, 'M750': 9, 'M232L': 12, 'S832M': 18, 'M754': 76, 'M842': 2, 'M232M': 13, 'M659G': 15, 'S832L': 10, 'M217F': 1, 'M210G': 2, 'M211G': 1, 'M796F': 28, 'T841': 22, 'M202': 7, 'M190H': 7, 'S961': 9, 'S9220': 5, 'M866H': 3, 'G573': 2, 'M058H': 11, 'M214': 6, 'M767': 14, 'M190': 29, 'T841H': 14, 'M255B': 10, 'M662G': 1, 'S923': 13, 'M769': 2, 'M191H': 58, 'S913': 2, 'M662H': 5, 'Z470': 21, 'S932': 6, 'S931': 1, 'M870H': 1, 'M866': 2, 'T846B': 3, 'S8260': 10, 'S525': 79, 'M841B': 19, 'S4240': 15, 'S431': 21, 'S4200': 95, 'M774': 2, 'M100H': 1, 'M678': 7, 'M215': 2, 'G576': 3, 'S826': 46, 'S9230': 7, 'T844': 7, 'S863': 8, 'T933': 1, 'Z890': 1, 'S5230': 13, 'T921': 28, 'M840C': 35, 'S610': 5, 'M796': 44, 'M663B': 6, 'T922': 15, 'S526': 33, 'S9240': 2, 'S565': 3, 'T846': 10, 'M840H': 2, 'M702': 7, 'S663': 28, 'T931': 5, 'S933': 4, 'S5220': 21, 'S6220': 10, 'T813': 3, 'M216': 1, 'T846H': 3, 'M242H': 6, 'M861H': 3, 'M191': 15, 'T845B': 7, 'Z966F': 5, 'S830': 5, 'M221': 2, 'M222': 5, 'M231L': 2, 'T812': 1, 'S430': 6, 'M753': 1, 'M245H': 2, 'M238': 2, 'S763': 7, 'M928': 8, 'S469': 2, 'M173': 1, 'M843H': 2, 'M768': 9, 'M255F': 1, 'M161': 81, 'M796B': 31, 'S828': 16, 'T841C': 7, 'S4210': 12, 'S634': 38, 'S5221': 1, 'T793': 6, 'M841H': 9, 'M244C': 10, 'M866C': 1, 'S662': 16, 'G563C': 2, 'T843H': 3, 'S4220': 28, 'S5251': 5, 'S5240': 6, 'M165': 3, 'M480K': 1, 'S8230': 4, 'S8200': 10, 'S720': 2, 'S8210': 10, 'S422': 5, 'S7240': 1, 'S7200': 2, 'M960H': 3, 'M122G': 1, 'S5280': 2, 'S5210': 18, 'S533': 4, 'G560': 29, 'S6260': 14, 'S5260': 29, 'M816': 1, 'S462': 33, 'M907C': 1, 'M840D': 11, 'M840F': 4, 'S922': 3, 'T847B': 3, 'M245C': 8, 'M002H': 1, 'T848C': 1, 'S468': 9, 'T841B': 6, 'T846G': 3, 'M240C': 5, 'M245D': 1, 'M674D': 2, 'M190C': 5, 'M653': 3, 'S862': 2, 'T930': 1, 'T983': 3, 'M255C': 1, 'S925': 4, 'G562C': 2, 'S420': 25, 'S642': 1, 'M842H': 6, 'T846C': 4, 'S521': 4, 'M840G': 1, 'S5211': 4, 'M795': 5, 'T818': 5, 'S833Q': 3, 'M245G': 3, 'M192H': 2, 'S836': 2, 'M233M': 1, 'S421': 1, 'M171': 4, 'S833L': 4, 'M242': 3, 'M705': 1, 'M919': 1, 'M929': 1, 'S434': 1, 'M240': 1, 'T1290': 1, 'S833': 1, 'M230M': 1, 'M179': 1, 'S834M': 1, 'M240H': 2, 'S8251': 1, 'S835S': 1, 'M459': 1, 'M778': 1, 'T859': 2, 'M765': 2, 'M626': 1, 'M715': 2, 'M622': 1, 'M241': 2, 'M892': 1, 'M245B': 1, 'S290': 1, 'T819': 1, 'S869': 3, 'S825': 9, 'S5270': 1, 'M796C': 8, 'S3210': 1, 'S819': 3, 'S562': 5, 'S428': 1, 'S463': 2, 'M841': 1, 'M621B': 1, 'S8240': 3, 'S821': 4, 'S8270': 1, 'S531': 2, 'S5241': 2, 'T814': 2, 'T840C': 1, 'S820': 1, 'M841C': 2, 'M242D': 1, 'S810': 1, 'T939': 2, 'S3220': 1, 'S999': 1, 'S960': 1, 'S5261': 6, 'M925A': 1, 'M842B': 1, 'M089': 1, 'M908H': 1, 'T840G': 41, 'M160': 18, 'T845F': 73, 'T840F': 11, 'T846F': 15, 'M659F': 1, 'T845G': 1, 'M009F': 4, 'Z966H': 2, 'M080H': 2, 'M069H': 1, 'M895G': 1, 'M080': 1, 'M167': 3, 'M870F': 1, 'M791F': 1, 'T840X': 2, 'M244F': 1, 'T845': 1, 'T940': 1, 'M912': 1, 'M008F': 2, 'M798': 1, 'Z966G': 1, 'S934': 3, 'T840H': 1, 'M960B': 1, 'M009B': 2, 'S500': 1, 'S868': 2, 'S9201': 1, 'T938': 1, 'M191C': 4, 'S6251': 2, 'Z895': 2, 'Z899': 1, 'S861': 2, 'M170': 1, 'M842F': 1, 'M674': 1, 'M842C': 1, 'S921': 1, 'S920': 1, 'S522': 1, 'S4221': 1, 'S8231': 1, 'S510': 1, 'S423': 1, 'S4230': 3, 'T935': 1, 'S563': 1, 'S8281': 1, 'S567': 1, 'M257': 1, 'T843F': 1, 'S540': 1, 'S621': 1, 'G562D': 1, 'S818': 1, 'T928': 1, 'S619': 1, 'M840B': 1, 'M009C': 1, 'T848H': 2, 'S633': 2, 'S4241': 1, 'S9200': 1, 'M872F': 1, 'T848': 1, 'S6271': 1, 'M842G': 1, 'M706': 2, 'M243': 1, 'M258F': 1, 'G575': 1, 'M058A': 1, 'G600': 1, 'M841G': 1}\n"
     ]
    }
   ],
   "source": [
    "diagnoser = {}\n",
    "for diagnos in combined_df['Diagnoskod']:\n",
    "    if diagnos not in diagnoser.keys():\n",
    "        diagnoser[diagnos] = 1\n",
    "    else:\n",
    "        value = diagnoser[diagnos]\n",
    "        diagnoser[diagnos] = value +1\n",
    "print(diagnoser)"
   ]
  },
  {
   "cell_type": "code",
   "execution_count": 13,
   "metadata": {},
   "outputs": [
    {
     "name": "stdout",
     "output_type": "stream",
     "text": [
      "      Der_Behandling_PK  Der_Opkort_FK  Der_Anestesikort_FK  Der_Vårdform_FK  \\\n",
      "0                387543         130348                   -1                2   \n",
      "1                509966          26159                   -1                2   \n",
      "2                695604         177053                 5095                2   \n",
      "3                482134          26020                 5914                2   \n",
      "4                299790         130609                 5909                2   \n",
      "...                 ...            ...                  ...              ...   \n",
      "4556             100097          77362                 4984                2   \n",
      "4558             668988          28502                 5909                2   \n",
      "4559             223046          63230                 6012                2   \n",
      "4560             295019          58909                 5914                2   \n",
      "4561             294111          58947                 6026                2   \n",
      "\n",
      "      Der_Prioritet_FK BehandlingsStatus  ASAklass  \\\n",
      "0                    2          Opererad       NaN   \n",
      "1                    3          Opererad       NaN   \n",
      "2                    1          Opererad       3.0   \n",
      "3                    5          Opererad       1.0   \n",
      "4                    6          Opererad       NaN   \n",
      "...                ...               ...       ...   \n",
      "4556                 1          Opererad       1.0   \n",
      "4558                 3          Opererad       3.0   \n",
      "4559                 6          Opererad       2.0   \n",
      "4560                 5          Opererad       2.0   \n",
      "4561                 3          Opererad       3.0   \n",
      "\n",
      "     ForberedelsetidStartTidpunkt ForberedelsetidSlutTidpunkt  \\\n",
      "0         2019-09-27 07:19:00.000     2019-09-27 09:15:00.000   \n",
      "1         2020-10-20 07:14:00.000     2020-10-20 07:43:00.000   \n",
      "2         2021-03-01 16:10:00.000     2021-03-01 17:38:00.000   \n",
      "3         2020-02-11 11:08:00.000     2020-02-11 11:54:00.000   \n",
      "4         2020-12-14 10:22:00.000     2020-12-14 11:57:00.000   \n",
      "...                           ...                         ...   \n",
      "4556      2018-06-19 12:45:00.000     2018-06-19 14:48:00.000   \n",
      "4558      2021-02-22 06:50:00.000     2021-02-22 09:03:00.000   \n",
      "4559      2019-11-04 12:25:00.000     2019-11-04 13:26:00.000   \n",
      "4560      2019-07-09 07:10:00.000     2019-07-09 08:52:00.000   \n",
      "4561      2019-05-07 13:55:00.000     2019-05-07 14:41:00.000   \n",
      "\n",
      "      PatientÅlderVidOp  ...  Starttimme   BMI  Kroppslängd  Kroppsvikt  \\\n",
      "0               29434.0  ...         8.0   NaN          NaN         NaN   \n",
      "1               16841.0  ...         7.0   NaN          NaN         NaN   \n",
      "2               15658.0  ...        16.0  24.4        173.0        73.0   \n",
      "3               27854.0  ...        11.0  29.1        169.0        83.0   \n",
      "4               21777.0  ...        10.0  24.4        190.0        88.0   \n",
      "...                 ...  ...         ...   ...          ...         ...   \n",
      "4556            14967.0  ...        13.0  25.0        197.0        97.0   \n",
      "4558            20914.0  ...         7.0  40.0        174.0       121.0   \n",
      "4559            24705.0  ...        12.0  21.1        174.0        64.0   \n",
      "4560            20532.0  ...         7.0  27.7        174.0        84.0   \n",
      "4561            31839.0  ...        13.0  22.4        165.0        61.0   \n",
      "\n",
      "      Diagnoskod Primär_Sekundär_x Ingreppkod Primär_Sekundär_y     Sida time  \n",
      "0           T840            Primär      TNG10            Primär    Höger  116  \n",
      "1           M258            Primär      TNH10            Primär    Höger   29  \n",
      "2          S5250            Primär      NCJ69            Primär  Vänster   88  \n",
      "3           T932            Primär      NHU49            Primär  Vänster   46  \n",
      "4           M610            Primär      NCH31            Primär  Vänster   95  \n",
      "...          ...               ...        ...               ...      ...  ...  \n",
      "4556       S4200            Primär      NBJ69            Primär    Höger  123  \n",
      "4558        M258            Primär      NFA21            Primär  Vänster  133  \n",
      "4559       M840C            Primär      NCK59            Primär  Vänster   61  \n",
      "4560       M190H            Primär      NHK18            Primär    Höger  102  \n",
      "4561        M205            Primär      NHK58            Primär    Höger   46  \n",
      "\n",
      "[4448 rows x 21 columns]\n",
      "Nr of diagnoser: 4448\n"
     ]
    }
   ],
   "source": [
    "true_diagnoser = {}\n",
    "for diagnos in diagnoser:\n",
    "    if diagnos[0] == 'M' or diagnos[0] == 'G' or diagnos[0] == 'Z' or diagnos[0] == 'S' or diagnos[0] == 'T':\n",
    "        true_diagnoser[diagnos] = diagnoser[diagnos]\n",
    "\n",
    "combined_df = combined_df[combined_df['Diagnoskod'].isin(true_diagnoser)]\n",
    "print(combined_df)\n",
    "#plt.bar(true_diagnoser.keys(), true_diagnoser.values())\n",
    "print(\"Nr of diagnoser: {}\".format(sum(true_diagnoser.values())))"
   ]
  },
  {
   "cell_type": "code",
   "execution_count": 36,
   "metadata": {},
   "outputs": [
    {
     "name": "stdout",
     "output_type": "stream",
     "text": [
      "{'TN': 446, 'NC': 1010, 'NH': 787, 'NB': 650, 'NG': 942, 'TA': 5, 'NF': 271, 'ND': 286, 'AC': 65, 'ZZ': 14, 'QC': 5, 'PG': 2, 'QD': 15, 'XN': 27, 'AB': 1, 'QB': 1, 'DQ': 5, 'DR': 1, 'TQ': 1, 'NE': 10, 'XX': 14, 'AV': 5}\n"
     ]
    }
   ],
   "source": [
    "ingrepp_plural = {}\n",
    "ingreppsgrupp = []\n",
    "for index, row in combined_df.iterrows():\n",
    "    ingrepp = row['Ingreppkod']\n",
    "    ingrepp_group = ingrepp[0:2]\n",
    "    ingreppsgrupp.append(ingrepp_group)\n",
    "    if ingrepp_group not in ingrepp_plural.keys():\n",
    "        ingrepp_plural[ingrepp_group] = 1\n",
    "    else:\n",
    "        value = ingrepp_plural[ingrepp_group]\n",
    "        ingrepp_plural[ingrepp_group] = value +1\n",
    "print(ingrepp_plural)\n",
    "combined_df['ingreppsGrupp'] = ingreppsgrupp"
   ]
  },
  {
   "cell_type": "code",
   "execution_count": 34,
   "metadata": {},
   "outputs": [
    {
     "data": {
      "text/plain": [
       "<BarContainer object of 22 artists>"
      ]
     },
     "execution_count": 34,
     "metadata": {},
     "output_type": "execute_result"
    },
    {
     "data": {
      "image/png": "[encoded data removed]",
      "text/plain": [
       "<Figure size 432x288 with 1 Axes>"
      ]
     },
     "metadata": {
      "needs_background": "light"
     },
     "output_type": "display_data"
    }
   ],
   "source": [
    "plt.bar(ingrepp_plural.keys(), ingrepp_plural.values())"
   ]
  },
  {
   "cell_type": "code",
   "execution_count": 37,
   "metadata": {},
   "outputs": [
    {
     "data": {
      "text/html": [
       "<div>\n",
       "<style scoped>\n",
       "    .dataframe tbody tr th:only-of-type {\n",
       "        vertical-align: middle;\n",
       "    }\n",
       "\n",
       "    .dataframe tbody tr th {\n",
       "        vertical-align: top;\n",
       "    }\n",
       "\n",
       "    .dataframe thead th {\n",
       "        text-align: right;\n",
       "    }\n",
       "</style>\n",
       "<table border=\"1\" class=\"dataframe\">\n",
       "  <thead>\n",
       "    <tr style=\"text-align: right;\">\n",
       "      <th></th>\n",
       "      <th>Der_Vårdform_FK</th>\n",
       "      <th>Der_Prioritet_FK</th>\n",
       "      <th>ASAklass</th>\n",
       "      <th>PatientÅlderVidOp</th>\n",
       "      <th>Veckodag</th>\n",
       "      <th>Starttimme</th>\n",
       "      <th>BMI</th>\n",
       "      <th>Kroppslängd</th>\n",
       "      <th>Kroppsvikt</th>\n",
       "      <th>Diagnoskod</th>\n",
       "      <th>Ingreppkod</th>\n",
       "      <th>Sida</th>\n",
       "      <th>time</th>\n",
       "      <th>ingreppsGrupp</th>\n",
       "    </tr>\n",
       "  </thead>\n",
       "  <tbody>\n",
       "    <tr>\n",
       "      <th>0</th>\n",
       "      <td>2</td>\n",
       "      <td>2</td>\n",
       "      <td>NaN</td>\n",
       "      <td>29434.0</td>\n",
       "      <td>5.0</td>\n",
       "      <td>8.0</td>\n",
       "      <td>NaN</td>\n",
       "      <td>NaN</td>\n",
       "      <td>NaN</td>\n",
       "      <td>T840</td>\n",
       "      <td>TNG10</td>\n",
       "      <td>Höger</td>\n",
       "      <td>116</td>\n",
       "      <td>TN</td>\n",
       "    </tr>\n",
       "    <tr>\n",
       "      <th>1</th>\n",
       "      <td>2</td>\n",
       "      <td>3</td>\n",
       "      <td>NaN</td>\n",
       "      <td>16841.0</td>\n",
       "      <td>2.0</td>\n",
       "      <td>7.0</td>\n",
       "      <td>NaN</td>\n",
       "      <td>NaN</td>\n",
       "      <td>NaN</td>\n",
       "      <td>M258</td>\n",
       "      <td>TNH10</td>\n",
       "      <td>Höger</td>\n",
       "      <td>29</td>\n",
       "      <td>TN</td>\n",
       "    </tr>\n",
       "    <tr>\n",
       "      <th>2</th>\n",
       "      <td>2</td>\n",
       "      <td>1</td>\n",
       "      <td>3.0</td>\n",
       "      <td>15658.0</td>\n",
       "      <td>1.0</td>\n",
       "      <td>16.0</td>\n",
       "      <td>24.4</td>\n",
       "      <td>173.0</td>\n",
       "      <td>73.0</td>\n",
       "      <td>S5250</td>\n",
       "      <td>NCJ69</td>\n",
       "      <td>Vänster</td>\n",
       "      <td>88</td>\n",
       "      <td>NC</td>\n",
       "    </tr>\n",
       "    <tr>\n",
       "      <th>3</th>\n",
       "      <td>2</td>\n",
       "      <td>5</td>\n",
       "      <td>1.0</td>\n",
       "      <td>27854.0</td>\n",
       "      <td>2.0</td>\n",
       "      <td>11.0</td>\n",
       "      <td>29.1</td>\n",
       "      <td>169.0</td>\n",
       "      <td>83.0</td>\n",
       "      <td>T932</td>\n",
       "      <td>NHU49</td>\n",
       "      <td>Vänster</td>\n",
       "      <td>46</td>\n",
       "      <td>NH</td>\n",
       "    </tr>\n",
       "    <tr>\n",
       "      <th>4</th>\n",
       "      <td>2</td>\n",
       "      <td>6</td>\n",
       "      <td>NaN</td>\n",
       "      <td>21777.0</td>\n",
       "      <td>1.0</td>\n",
       "      <td>10.0</td>\n",
       "      <td>24.4</td>\n",
       "      <td>190.0</td>\n",
       "      <td>88.0</td>\n",
       "      <td>M610</td>\n",
       "      <td>NCH31</td>\n",
       "      <td>Vänster</td>\n",
       "      <td>95</td>\n",
       "      <td>NC</td>\n",
       "    </tr>\n",
       "  </tbody>\n",
       "</table>\n",
       "</div>"
      ],
      "text/plain": [
       "   Der_Vårdform_FK  Der_Prioritet_FK  ASAklass  PatientÅlderVidOp  Veckodag  \\\n",
       "0                2                 2       NaN            29434.0       5.0   \n",
       "1                2                 3       NaN            16841.0       2.0   \n",
       "2                2                 1       3.0            15658.0       1.0   \n",
       "3                2                 5       1.0            27854.0       2.0   \n",
       "4                2                 6       NaN            21777.0       1.0   \n",
       "\n",
       "   Starttimme   BMI  Kroppslängd  Kroppsvikt Diagnoskod Ingreppkod     Sida  \\\n",
       "0         8.0   NaN          NaN         NaN       T840      TNG10    Höger   \n",
       "1         7.0   NaN          NaN         NaN       M258      TNH10    Höger   \n",
       "2        16.0  24.4        173.0        73.0      S5250      NCJ69  Vänster   \n",
       "3        11.0  29.1        169.0        83.0       T932      NHU49  Vänster   \n",
       "4        10.0  24.4        190.0        88.0       M610      NCH31  Vänster   \n",
       "\n",
       "   time ingreppsGrupp  \n",
       "0   116            TN  \n",
       "1    29            TN  \n",
       "2    88            NC  \n",
       "3    46            NH  \n",
       "4    95            NC  "
      ]
     },
     "execution_count": 37,
     "metadata": {},
     "output_type": "execute_result"
    }
   ],
   "source": [
    "fetures_df = combined_df.drop([\"Der_Behandling_PK\", \n",
    "                               \"Der_Opkort_FK\",\n",
    "                               \"Der_Anestesikort_FK\",\n",
    "                               \"BehandlingsStatus\",\n",
    "                               \"ForberedelsetidStartTidpunkt\",\n",
    "                               \"ForberedelsetidSlutTidpunkt\",\n",
    "                               \"Primär_Sekundär_x\",\n",
    "                               \"Primär_Sekundär_y\",\n",
    "                            ], axis='columns')\n",
    "fetures_df.head()"
   ]
  },
  {
   "cell_type": "code",
   "execution_count": 42,
   "metadata": {},
   "outputs": [
    {
     "name": "stdout",
     "output_type": "stream",
     "text": [
      "AB\n",
      "     Der_Vårdform_FK  Der_Prioritet_FK  ASAklass  PatientÅlderVidOp  Veckodag  \\\n",
      "921                1                 6       2.0            28170.0       4.0   \n",
      "\n",
      "     Starttimme   BMI  Kroppslängd  Kroppsvikt Diagnoskod Ingreppkod   Sida  \\\n",
      "921        16.0  29.0        181.0        95.0      M480K      ABC36  Ingen   \n",
      "\n",
      "     time ingreppsGrupp  \n",
      "921   103            AB  \n",
      "AC\n",
      "     Der_Vårdform_FK  Der_Prioritet_FK  ASAklass  PatientÅlderVidOp  Veckodag  \\\n",
      "69                 1                 6       3.0            23490.0       3.0   \n",
      "123                1                 6       2.0             8938.0       2.0   \n",
      "149                1                 6       2.0            11608.0       2.0   \n",
      "150                1                 6       2.0            11608.0       2.0   \n",
      "154                1                 5       3.0            10884.0       2.0   \n",
      "\n",
      "     Starttimme   BMI  Kroppslängd  Kroppsvikt Diagnoskod Ingreppkod     Sida  \\\n",
      "69          7.0  17.4        176.0        54.0       G824      ACC13  Vänster   \n",
      "123        11.0  25.5        188.0        90.0       G825      ACB22  Vänster   \n",
      "149        11.0  32.4        180.0       105.0       G825      ACB22     Båda   \n",
      "150        11.0  32.4        180.0       105.0       G825      ACC42     Båda   \n",
      "154         7.0  20.7        188.0        73.0       G825      ACB22     Båda   \n",
      "\n",
      "     time ingreppsGrupp  \n",
      "69    119            AC  \n",
      "123    77            AC  \n",
      "149   108            AC  \n",
      "150   108            AC  \n",
      "154   126            AC  \n",
      "AV\n",
      "      Der_Vårdform_FK  Der_Prioritet_FK  ASAklass  PatientÅlderVidOp  \\\n",
      "2655                2                 1       2.0            14004.0   \n",
      "3202                2                 1       NaN            14035.0   \n",
      "3214                2                 1       3.0            25419.0   \n",
      "3220                2                 1       NaN            13957.0   \n",
      "3226                2                 3       NaN            31396.0   \n",
      "\n",
      "      Veckodag  Starttimme   BMI  Kroppslängd  Kroppsvikt Diagnoskod  \\\n",
      "2655       7.0        12.0  26.6        170.0        77.0       S999   \n",
      "3202       3.0         8.0   NaN          NaN         NaN      M242H   \n",
      "3214       1.0         9.0  18.6        181.0        61.0      S5250   \n",
      "3220       1.0         8.0   NaN          NaN         NaN      S8240   \n",
      "3226       4.0         8.0   NaN          NaN         NaN      S4220   \n",
      "\n",
      "     Ingreppkod   Sida  time ingreppsGrupp  \n",
      "2655    AV035    Ingen    41            AV  \n",
      "3202    AV035    Ingen    19            AV  \n",
      "3214    AV035    Ingen    54            AV  \n",
      "3220    AV035    Ingen    53            AV  \n",
      "3226    AV035    Ingen    11            AV  \n",
      "DQ\n",
      "      Der_Vårdform_FK  Der_Prioritet_FK  ASAklass  PatientÅlderVidOp  \\\n",
      "1111                2                 1       NaN            15941.0   \n",
      "2484                1                 1       3.0            17630.0   \n",
      "3319                2                 2       1.0            19635.0   \n",
      "3571                2                 1       2.0            22210.0   \n",
      "3933                2                 1       3.0            23914.0   \n",
      "\n",
      "      Veckodag  Starttimme   BMI  Kroppslängd  Kroppsvikt Diagnoskod  \\\n",
      "1111       3.0        10.0  44.8        173.0       134.0      M659G   \n",
      "2484       2.0        10.0   NaN          NaN         NaN       E136   \n",
      "3319       3.0         7.0  23.9        183.0        80.0       S610   \n",
      "3571       2.0        11.0  21.9        175.0        67.0      S8231   \n",
      "3933       5.0        10.0  26.0        186.0        90.0       S818   \n",
      "\n",
      "     Ingreppkod   Sida  time ingreppsGrupp  \n",
      "1111    DQ023    Ingen    83            DQ  \n",
      "2484    DQ023    Ingen    94            DQ  \n",
      "3319    DQ017    Ingen     3            DQ  \n",
      "3571    DQ023    Ingen    87            DQ  \n",
      "3933    DQ023    Ingen    63            DQ  \n",
      "DR\n",
      "      Der_Vårdform_FK  Der_Prioritet_FK  ASAklass  PatientÅlderVidOp  \\\n",
      "1546                2                 5       1.0             8931.0   \n",
      "\n",
      "      Veckodag  Starttimme   BMI  Kroppslängd  Kroppsvikt Diagnoskod  \\\n",
      "1546       1.0        10.0  22.1        178.0        70.0       M235   \n",
      "\n",
      "     Ingreppkod   Sida  time ingreppsGrupp  \n",
      "1546    DR008    Ingen    79            DR  \n",
      "NB\n",
      "    Der_Vårdform_FK  Der_Prioritet_FK  ASAklass  PatientÅlderVidOp  Veckodag  \\\n",
      "5                 2                 6       2.0            31594.0       2.0   \n",
      "10                2                 6       2.0            20466.0       3.0   \n",
      "14                2                 5       2.0             9151.0       2.0   \n",
      "44                2                 1       2.0            18511.0       3.0   \n",
      "73                1                 6       2.0            15294.0       2.0   \n",
      "\n",
      "    Starttimme   BMI  Kroppslängd  Kroppsvikt Diagnoskod Ingreppkod     Sida  \\\n",
      "5         13.0  21.7        165.0        59.0       M751      NBL39  Vänster   \n",
      "10         7.0  24.0        178.0        76.0       M751      NBL49  Vänster   \n",
      "14        12.0  20.2        178.0        64.0      M244B      NBH72  Vänster   \n",
      "44        13.0  23.9        183.0        80.0       S460      NBL49    Höger   \n",
      "73         7.0  25.9        178.0        82.0       G802      NBL39  Vänster   \n",
      "\n",
      "    time ingreppsGrupp  \n",
      "5    125            NB  \n",
      "10    93            NB  \n",
      "14   151            NB  \n",
      "44    42            NB  \n",
      "73    99            NB  \n",
      "NC\n",
      "    Der_Vårdform_FK  Der_Prioritet_FK  ASAklass  PatientÅlderVidOp  Veckodag  \\\n",
      "2                 2                 1       3.0            15658.0       1.0   \n",
      "4                 2                 6       NaN            21777.0       1.0   \n",
      "33                2                 1       2.0            23161.0       3.0   \n",
      "34                2                 2       1.0            16743.0       1.0   \n",
      "36                2                 1       1.0            11785.0       1.0   \n",
      "\n",
      "    Starttimme   BMI  Kroppslängd  Kroppsvikt Diagnoskod Ingreppkod     Sida  \\\n",
      "2         16.0  24.4        173.0        73.0      S5250      NCJ69  Vänster   \n",
      "4         10.0  24.4        190.0        88.0       M610      NCH31  Vänster   \n",
      "33         7.0  29.3        162.0        77.0      S5250      NCJ69  Vänster   \n",
      "34        13.0  28.0        186.0        97.0      S5250      NCJ69    Höger   \n",
      "36        11.0  31.5        191.0       115.0       S532      NCE22    Höger   \n",
      "\n",
      "    time ingreppsGrupp  \n",
      "2     88            NC  \n",
      "4     95            NC  \n",
      "33   111            NC  \n",
      "34    79            NC  \n",
      "36    23            NC  \n",
      "ND\n",
      "    Der_Vårdform_FK  Der_Prioritet_FK  ASAklass  PatientÅlderVidOp  Veckodag  \\\n",
      "35                2                 2       2.0             7094.0       1.0   \n",
      "47                1                 6       1.0            14253.0       3.0   \n",
      "62                1                 6       2.0            25541.0       2.0   \n",
      "67                1                 6       2.0            22179.0       3.0   \n",
      "82                1                 6       2.0            22936.0       2.0   \n",
      "\n",
      "    Starttimme   BMI  Kroppslängd  Kroppsvikt Diagnoskod Ingreppkod     Sida  \\\n",
      "35        14.0  25.2        178.0        80.0      S6230      NDJ49  Vänster   \n",
      "47         7.0  25.9        177.0        81.0       S541      NDT69    Höger   \n",
      "62        10.0  20.3        192.0        75.0       I698      NDL69    Höger   \n",
      "67        12.0  29.4        172.0        87.0       G802      NDL69    Höger   \n",
      "82         7.0  24.7        180.0        80.0       G252      NDL39    Höger   \n",
      "\n",
      "    time ingreppsGrupp  \n",
      "35   106            ND  \n",
      "47    89            ND  \n",
      "62   109            ND  \n",
      "67   109            ND  \n",
      "82   118            ND  \n",
      "NE\n",
      "      Der_Vårdform_FK  Der_Prioritet_FK  ASAklass  PatientÅlderVidOp  \\\n",
      "2383                2                 6       3.0            25740.0   \n",
      "2386                2                 3       2.0            15892.0   \n",
      "2534                2                 1       1.0             7356.0   \n",
      "2535                2                 1       1.0             7356.0   \n",
      "2650                2                 6       2.0            13197.0   \n",
      "\n",
      "      Veckodag  Starttimme   BMI  Kroppslängd  Kroppsvikt Diagnoskod  \\\n",
      "2383       5.0        12.0  31.4        174.0        95.0       Y883   \n",
      "2386       5.0        10.0  26.7        173.0        80.0      S3210   \n",
      "2534       2.0        14.0  24.4        192.0        90.0       T793   \n",
      "2535       2.0        14.0  24.4        192.0        90.0       T793   \n",
      "2650       5.0        13.0  23.3        159.0        59.0      S3220   \n",
      "\n",
      "     Ingreppkod   Sida  time ingreppsGrupp  \n",
      "2383      NEU49  Ingen   117            NE  \n",
      "2386      NEJ79  Ingen   171            NE  \n",
      "2534      NEU89  Ingen   120            NE  \n",
      "2535      NES99  Ingen   120            NE  \n",
      "2650      NEK19  Ingen    60            NE  \n",
      "NF\n",
      "    Der_Vårdform_FK  Der_Prioritet_FK  ASAklass  PatientÅlderVidOp  Veckodag  \\\n",
      "13                2                 6       1.0            12728.0       3.0   \n",
      "23                2                 6       1.0             2995.0       3.0   \n",
      "26                2                 6       1.0             4373.0       3.0   \n",
      "37                2                 2       2.0            24036.0       2.0   \n",
      "48                1                 2       2.0            23617.0       3.0   \n",
      "\n",
      "    Starttimme   BMI  Kroppslängd  Kroppsvikt Diagnoskod Ingreppkod     Sida  \\\n",
      "13        13.0  22.1        178.0        70.0       R294      NFL39    Höger   \n",
      "23         8.0  31.2        116.0        42.0       M911      NFU49  Vänster   \n",
      "26         7.0  18.9        149.0        42.0       M911      NFU49  Vänster   \n",
      "37         7.0   NaN          NaN         NaN       S761      NFL49    Höger   \n",
      "48        14.0  32.3        176.0       100.0       Z896      NFQ99  Vänster   \n",
      "\n",
      "    time ingreppsGrupp  \n",
      "13    69            NF  \n",
      "23   128            NF  \n",
      "26   110            NF  \n",
      "37    85            NF  \n",
      "48    50            NF  \n",
      "NG\n",
      "    Der_Vårdform_FK  Der_Prioritet_FK  ASAklass  PatientÅlderVidOp  Veckodag  \\\n",
      "6                 2                 5       1.0            20234.0       3.0   \n",
      "7                 2                 3       1.0            17382.0       5.0   \n",
      "8                 2                 6       2.0            16028.0       3.0   \n",
      "9                 2                 3       1.0             6945.0       1.0   \n",
      "15                2                 6       1.0             5724.0       1.0   \n",
      "\n",
      "    Starttimme   BMI  Kroppslängd  Kroppsvikt Diagnoskod Ingreppkod     Sida  \\\n",
      "6         10.0  24.1        180.0        78.0       M234      NGA11  Vänster   \n",
      "7         10.0  22.3        160.0        57.0       S832      NGD11    Höger   \n",
      "8          7.0  33.2        182.0       110.0      S835R      NGE41  Vänster   \n",
      "9          8.0  16.6        187.0        58.0       M248      NGF31    Höger   \n",
      "15         7.0  24.2        169.0        69.0       M235      NGE41  Vänster   \n",
      "\n",
      "    time ingreppsGrupp  \n",
      "6     83            NG  \n",
      "7     53            NG  \n",
      "8    112            NG  \n",
      "9    121            NG  \n",
      "15   104            NG  \n",
      "NH\n",
      "    Der_Vårdform_FK  Der_Prioritet_FK  ASAklass  PatientÅlderVidOp  Veckodag  \\\n",
      "3                 2                 5       1.0            27854.0       2.0   \n",
      "21                2                 6       1.0             3951.0       3.0   \n",
      "24                2                 6       1.0             5760.0       3.0   \n",
      "25                2                 2       2.0            25766.0       2.0   \n",
      "28                2                 6       2.0             5672.0       3.0   \n",
      "\n",
      "    Starttimme   BMI  Kroppslängd  Kroppsvikt Diagnoskod Ingreppkod     Sida  \\\n",
      "3         11.0  29.1        169.0        83.0       T932      NHU49  Vänster   \n",
      "21         7.0  19.9        160.0        51.0       M204      NHL69  Vänster   \n",
      "24        10.0  17.5        164.0        47.0       Q668      NHK14    Höger   \n",
      "25         9.0  23.3        167.0        65.0      S8280      NHJ63    Höger   \n",
      "28         8.0  19.1        168.0        54.0       M201      NHK57  Vänster   \n",
      "\n",
      "    time ingreppsGrupp  \n",
      "3     46            NH  \n",
      "21    89            NH  \n",
      "24    43            NH  \n",
      "25    73            NH  \n",
      "28   114            NH  \n",
      "PG\n",
      "      Der_Vårdform_FK  Der_Prioritet_FK  ASAklass  PatientÅlderVidOp  \\\n",
      "307                 2                 6       1.0             9378.0   \n",
      "3210                2                 1       NaN            13937.0   \n",
      "\n",
      "      Veckodag  Starttimme   BMI  Kroppslängd  Kroppsvikt Diagnoskod  \\\n",
      "307        4.0         9.0  22.6        163.0        60.0      S835R   \n",
      "3210       1.0         8.0   NaN          NaN         NaN      S8260   \n",
      "\n",
      "     Ingreppkod   Sida  time ingreppsGrupp  \n",
      "307     PG002    Ingen   185            PG  \n",
      "3210    PG002    Ingen    94            PG  \n",
      "QB\n",
      "     Der_Vårdform_FK  Der_Prioritet_FK  ASAklass  PatientÅlderVidOp  Veckodag  \\\n",
      "960                1                 2       1.0             7421.0       4.0   \n",
      "\n",
      "     Starttimme   BMI  Kroppslängd  Kroppsvikt Diagnoskod Ingreppkod   Sida  \\\n",
      "960         8.0  24.4        192.0        90.0       T793      QBB05  Ingen   \n",
      "\n",
      "     time ingreppsGrupp  \n",
      "960   103            QB  \n",
      "QC\n",
      "      Der_Vårdform_FK  Der_Prioritet_FK  ASAklass  PatientÅlderVidOp  \\\n",
      "134                 1                 6       3.0            18083.0   \n",
      "855                 2                 2       2.0            29361.0   \n",
      "1373                2                 6       1.0            10784.0   \n",
      "3432                2                 6       2.0            23478.0   \n",
      "3578                2                 2       1.0            10661.0   \n",
      "\n",
      "      Veckodag  Starttimme   BMI  Kroppslängd  Kroppsvikt Diagnoskod  \\\n",
      "134        4.0        10.0  27.7        170.0        80.0       Z892   \n",
      "855        1.0        12.0  25.2        178.0        80.0       T793   \n",
      "1373       5.0         7.0  24.6        178.0        78.0       L923   \n",
      "3432       5.0        10.0  22.5        170.0        65.0       M674   \n",
      "3578       3.0         7.0  27.1        163.0        72.0       S510   \n",
      "\n",
      "     Ingreppkod     Sida  time ingreppsGrupp  \n",
      "134       QCB05  Vänster   110            QC  \n",
      "855       QCB05    Höger   170            QC  \n",
      "1373      QCC00    Höger    73            QC  \n",
      "3432      QCB05    Höger    96            QC  \n",
      "3578      QCB05    Höger    91            QC  \n",
      "QD\n",
      "      Der_Vårdform_FK  Der_Prioritet_FK  ASAklass  PatientÅlderVidOp  \\\n",
      "524                 2                 1       3.0            29936.0   \n",
      "1010                2                 2       1.0            13076.0   \n",
      "1103                2                 1       3.0            15947.0   \n",
      "1232                2                 5       2.0            21014.0   \n",
      "1300                2                 2       3.0            28959.0   \n",
      "\n",
      "      Veckodag  Starttimme   BMI  Kroppslängd  Kroppsvikt Diagnoskod  \\\n",
      "524        4.0        11.0  17.8        148.0        39.0       M866   \n",
      "1010       3.0         7.0  26.3        185.0        90.0       M816   \n",
      "1103       2.0        14.0  44.8        173.0       134.0      M659G   \n",
      "1232       5.0         7.0  28.7        172.0        85.0       T930   \n",
      "1300       1.0         9.0   NaN          NaN         NaN      I702A   \n",
      "\n",
      "     Ingreppkod     Sida  time ingreppsGrupp  \n",
      "524       QDB05  Vänster   267            QD  \n",
      "1010      QDB05  Vänster   105            QD  \n",
      "1103      QDB00    Höger   105            QD  \n",
      "1232      QDC00     Båda    87            QD  \n",
      "1300      QDB00    Höger    81            QD  \n",
      "TA\n",
      "      Der_Vårdform_FK  Der_Prioritet_FK  ASAklass  PatientÅlderVidOp  \\\n",
      "11                  2                 5       2.0            11455.0   \n",
      "12                  2                 5       1.0            11414.0   \n",
      "18                  2                 5       1.0            11403.0   \n",
      "304                 2                 5       NaN            11392.0   \n",
      "1760                2                 5       1.0            11385.0   \n",
      "\n",
      "      Veckodag  Starttimme  BMI  Kroppslängd  Kroppsvikt Diagnoskod  \\\n",
      "11         1.0         9.0  NaN        163.0         NaN      M796G   \n",
      "12         2.0         9.0  NaN        163.0         NaN      M796G   \n",
      "18         5.0         8.0  NaN        163.0         NaN      M796G   \n",
      "304        1.0         9.0  NaN          NaN         NaN      M796G   \n",
      "1760       1.0         8.0  NaN          NaN         NaN      M796G   \n",
      "\n",
      "     Ingreppkod   Sida  time ingreppsGrupp  \n",
      "11        TAC00  Ingen     0            TA  \n",
      "12        TAC00  Ingen    20            TA  \n",
      "18        TAC00  Ingen    28            TA  \n",
      "304       TAC00  Ingen   128            TA  \n",
      "1760      TAC00  Ingen    40            TA  \n",
      "TN\n",
      "     Der_Vårdform_FK  Der_Prioritet_FK  ASAklass  PatientÅlderVidOp  Veckodag  \\\n",
      "0                  2                 2       NaN            29434.0       5.0   \n",
      "1                  2                 3       NaN            16841.0       2.0   \n",
      "107                1                 6       3.0            15769.0       2.0   \n",
      "198                1                 6       2.0            10417.0       2.0   \n",
      "223                1                 6       2.0            15649.0       2.0   \n",
      "\n",
      "     Starttimme   BMI  Kroppslängd  Kroppsvikt Diagnoskod Ingreppkod     Sida  \\\n",
      "0           8.0   NaN          NaN         NaN       T840      TNG10    Höger   \n",
      "1           7.0   NaN          NaN         NaN       M258      TNH10    Höger   \n",
      "107         7.0  20.1        193.0        75.0       G825      TND32  Vänster   \n",
      "198         7.0  29.4        165.0        80.0       G802      TND32    Höger   \n",
      "223         7.0  27.4        171.0        80.0       G825      TNC32     Båda   \n",
      "\n",
      "     time ingreppsGrupp  \n",
      "0     116            TN  \n",
      "1      29            TN  \n",
      "107   115            TN  \n",
      "198   156            TN  \n",
      "223   100            TN  \n",
      "TQ\n",
      "      Der_Vårdform_FK  Der_Prioritet_FK  ASAklass  PatientÅlderVidOp  \\\n",
      "2305                2                 2       2.0            15683.0   \n",
      "\n",
      "      Veckodag  Starttimme   BMI  Kroppslängd  Kroppsvikt Diagnoskod  \\\n",
      "2305       4.0        11.0  31.9        168.0        90.0       T819   \n",
      "\n",
      "     Ingreppkod   Sida  time ingreppsGrupp  \n",
      "2305      TQW99  Ingen    68            TQ  \n",
      "XN\n",
      "      Der_Vårdform_FK  Der_Prioritet_FK  ASAklass  PatientÅlderVidOp  \\\n",
      "662                 2                 3       NaN            24845.0   \n",
      "2748                2                 5       NaN            22452.0   \n",
      "2752                2                 6       NaN            25827.0   \n",
      "2753                2                 5       NaN            14379.0   \n",
      "2762                2                 5       NaN            23178.0   \n",
      "\n",
      "      Veckodag  Starttimme  BMI  Kroppslängd  Kroppsvikt Diagnoskod  \\\n",
      "662        1.0         8.0  NaN          NaN         NaN      M191H   \n",
      "2748       3.0         8.0  NaN          NaN         NaN      M191H   \n",
      "2752       4.0         8.0  NaN          NaN         NaN      M191H   \n",
      "2753       4.0         9.0  NaN          NaN         NaN      M191H   \n",
      "2762       3.0         7.0  NaN          NaN         NaN      M191H   \n",
      "\n",
      "     Ingreppkod   Sida  time ingreppsGrupp  \n",
      "662       XNW99  Ingen    74            XN  \n",
      "2748      XNW99  Ingen     5            XN  \n",
      "2752      XNW99  Ingen     0            XN  \n",
      "2753      XNW99  Ingen   127            XN  \n",
      "2762      XNW99  Ingen    15            XN  \n",
      "XX\n",
      "      Der_Vårdform_FK  Der_Prioritet_FK  ASAklass  PatientÅlderVidOp  \\\n",
      "2408                2                 2       1.0            21346.0   \n",
      "2548                2                 1       2.0            13756.0   \n",
      "2631                2                 1       2.0            20667.0   \n",
      "3208                2                 1       1.0            19799.0   \n",
      "3213                2                 3       NaN            24782.0   \n",
      "\n",
      "      Veckodag  Starttimme   BMI  Kroppslängd  Kroppsvikt Diagnoskod  \\\n",
      "2408       5.0         7.0  26.0        170.0        75.0      S4220   \n",
      "2548       4.0        11.0  31.0        190.0       112.0      S9220   \n",
      "2631       4.0        14.0  24.6        165.0        67.0      S8240   \n",
      "3208       4.0        10.0   NaN          NaN         NaN       S923   \n",
      "3213       4.0         7.0   NaN          NaN         NaN       M798   \n",
      "\n",
      "     Ingreppkod   Sida  time ingreppsGrupp  \n",
      "2408      XXA00  Ingen    61            XX  \n",
      "2548      XXA00  Ingen    32            XX  \n",
      "2631      XXA00  Ingen    61            XX  \n",
      "3208      XXA00  Ingen   108            XX  \n",
      "3213      XXA00  Ingen    52            XX  \n",
      "ZZ\n",
      "     Der_Vårdform_FK  Der_Prioritet_FK  ASAklass  PatientÅlderVidOp  Veckodag  \\\n",
      "116                1                 6       2.0            21998.0       2.0   \n",
      "127                1                 6       3.0             5379.0       2.0   \n",
      "131                1                 6       2.0            18760.0       2.0   \n",
      "137                1                 6       1.0            14866.0       2.0   \n",
      "277                1                 3       1.0            18806.0       2.0   \n",
      "\n",
      "     Starttimme   BMI  Kroppslängd  Kroppsvikt Diagnoskod Ingreppkod   Sida  \\\n",
      "116         7.0  22.8        165.0        62.0       G825      ZZB40  Ingen   \n",
      "127        11.0  16.2        181.0        53.0       G825      ZZB40  Ingen   \n",
      "131        12.0  26.3        185.0        90.0       G825      ZZB40  Ingen   \n",
      "137        11.0  26.3        191.0        96.0       T925      ZZB40  Ingen   \n",
      "277        10.0  24.4        173.0        73.0       L923      ZZR00  Ingen   \n",
      "\n",
      "     time ingreppsGrupp  \n",
      "116   104            ZZ  \n",
      "127   116            ZZ  \n",
      "131   156            ZZ  \n",
      "137   114            ZZ  \n",
      "277    88            ZZ  \n"
     ]
    }
   ],
   "source": [
    "for ingreppsgrupp, ingreppsgrupp_df in fetures_df.groupby('ingreppsGrupp'):\n",
    "    print(ingreppsgrupp)\n",
    "    ingreppsgrupp_df.head()"
   ]
  },
  {
   "cell_type": "code",
   "execution_count": null,
   "metadata": {},
   "outputs": [],
   "source": []
  }
 ],
 "metadata": {
  "kernelspec": {
   "display_name": "Python 3",
   "language": "python",
   "name": "python3"
  },
  "language_info": {
   "codemirror_mode": {
    "name": "ipython",
    "version": 3
   },
   "file_extension": ".py",
   "mimetype": "text/x-python",
   "name": "python",
   "nbconvert_exporter": "python",
   "pygments_lexer": "ipython3",
   "version": "3.8.5"
  }
 },
 "nbformat": 4,
 "nbformat_minor": 4
}
