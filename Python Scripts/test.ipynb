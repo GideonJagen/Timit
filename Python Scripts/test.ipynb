{
 "cells": [
  {
   "cell_type": "code",
   "execution_count": null,
   "metadata": {},
   "outputs": [],
   "source": [
    "from pathlib import Path\n",
    "import pandas as pd\n",
    "import numpy as np\n",
    "import matplotlib.pyplot as plt\n",
    "import seaborn as sns\n",
    "\n",
    "from sklearn import preprocessing\n",
    "from sklearn.model_selection import train_test_split, cross_validate\n",
    "from sklearn.metrics import mean_squared_error, mean_absolute_error, r2_score\n",
    "from sklearn.preprocessing import OrdinalEncoder, OneHotEncoder\n",
    "from sklearn.impute import SimpleImputer, KNNImputer\n",
    "from permetrics.regression import Metrics\n",
    "\n",
    "from sklearn.ensemble import RandomForestRegressor, GradientBoostingRegressor\n",
    "from sklearn.tree import DecisionTreeRegressor\n",
    "from sklearn.dummy import DummyRegressor\n",
    "from sklearn.neural_network import MLPRegressor\n",
    "from sklearn.svm import LinearSVR\n",
    "from sklearn.linear_model import Ridge, LinearRegression, Lasso, ElasticNet\n",
    "\n",
    "from tensorflow import keras\n",
    "from keras.wrappers.scikit_learn import KerasRegressor\n",
    "from keras.models import Sequential\n",
    "from keras.layers import Dense\n",
    "\n",
    "from sklearn.model_selection import cross_val_score\n",
    "from sklearn.model_selection import KFold\n",
    "from sklearn.preprocessing import StandardScaler\n",
    "from sklearn.inspection import permutation_importance\n",
    "\n",
    "from sklearn.pipeline import Pipeline\n",
    "\n",
    "import statsmodels.api as sm\n",
    "from dython import nominal"
   ]
  },
  {
   "cell_type": "markdown",
   "metadata": {},
   "source": [
    "**Add column names**"
   ]
  },
  {
   "cell_type": "code",
   "execution_count": null,
   "metadata": {},
   "outputs": [],
   "source": [
    "opkort = pd.read_csv(Path('../20210324/opkort.csv'), header=None, sep=';')\n",
    "opkort_gammal = pd.read_csv(Path('../inte_så_kul/res/gamla/op_kort_filt.csv'), sep=';')\n",
    "opkort.columns = opkort_gammal.columns\n",
    "opkort.to_csv(Path('../20210324/with_name/op_kort_namn.csv'))"
   ]
  },
  {
   "cell_type": "code",
   "execution_count": null,
   "metadata": {},
   "outputs": [],
   "source": [
    "ingrepp = pd.read_csv(Path('../20210324/op_ingrepp.csv'), header=None, sep=';')\n",
    "ingrepp_gammal = pd.read_csv(Path('../inte_så_kul/res/gamla/ingrepp_ingrepp.csv'), sep=';')\n",
    "ingrepp.columns = ingrepp_gammal.columns\n",
    "ingrepp.to_csv(Path('../20210324/with_name/op_ingrepp_namn.csv'))"
   ]
  },
  {
   "cell_type": "code",
   "execution_count": null,
   "metadata": {},
   "outputs": [],
   "source": [
    "diagnos = pd.read_csv(Path('../20210324/op_diagnos.csv'), header=None, sep=';')\n",
    "diagnos_gammal = pd.read_csv(Path('../inte_så_kul/res/gamla/ingrepp_diagnos.csv'), sep=';')\n",
    "diagnos.columns = diagnos_gammal.columns\n",
    "diagnos.to_csv(Path('../20210324/with_name/op_diagnos_namn.csv'))"
   ]
  },
  {
   "cell_type": "markdown",
   "metadata": {},
   "source": [
    "**LOAD DATA AND COMBINE INTO 1 DF**"
   ]
  },
  {
   "cell_type": "markdown",
   "metadata": {},
   "source": [
    "**Behandling**\n",
    "* Der_Behandling_PK\n",
    "* Der_Opkort_FK -> op_kort\n",
    "* Der_Anestesikort_FK -> Anestesikort (Har inte fått än)\n",
    "* Der_Vårdform_FK\n",
    "* Der_Prioritet_FK\n",
    "* BehandlingsStatus - Kanske behöver filtreras bort\n",
    "* ASAklass\n",
    "* Der_PeropUtskriventill_FK - Vad fan menas??\n",
    "* ForberedelsetidStartTidpunkt\n",
    "* ForberedelsetidSlutTidpunkt\n",
    "* PatientÅlderVidOp - står i dagar\n",
    "* Veckodag? kanske\n",
    "* Starttimme? kanske\n",
    "* BMI\n",
    "* Kroppslängd - del av BMI\n",
    "* Kroppsvikt - del av BMI\n",
    "\n",
    "**Op-kort** - Hur kopplas behandling till OP-kort (Tror inte att vi behöver någonting härifrån)\n",
    "* Der_Opkort_PK -> behandling\n",
    "* OpkortText - har en kod i början\n",
    "* OpkortUndergruppKod\n",
    "* OpkortHubudgruppKod\n",
    "* TidFöreMin - Är det kopplat till en behandling?\n",
    "\n",
    "**Op-ingrepp**\n",
    "* Der_Behandling_PK -> behandling\n",
    "* Ingreppskod - primär, kanske sekundär (se Primär_Sekundär)\n",
    "* Primär_Sekundär\n",
    "* Sida\n",
    "\n",
    "**Op-diagnos**\n",
    "* Der_Behandling_PK -> behandling\n",
    "* Diagnoskod - primär, kanske sekundär (se Primär_Sekundär)\n",
    "* Primär_Sekundär"
   ]
  },
  {
   "cell_type": "code",
   "execution_count": null,
   "metadata": {},
   "outputs": [],
   "source": [
    "# Lead behandling and select relevant columns\n",
    "behandling = pd.read_csv(Path('../20210324/with_name/behandling_optillfälle.csv'), sep=';')\n",
    "behandling = behandling[['Der_Behandling_PK',\n",
    "                         'Der_Opkort_FK',\n",
    "                         'Der_Anestesikort_FK',\n",
    "                         'Der_Vårdform_FK',\n",
    "                         'Der_Prioritet_FK',\n",
    "                         'BehandlingsStatus',\n",
    "                         'ASAklass',\n",
    "                         'ForberedelsetidStartTidpunkt',\n",
    "                         'ForberedelsetidSlutTidpunkt',\n",
    "                         'PatientÅlderVidOp',\n",
    "                         'Veckodag',\n",
    "                         'Starttimme',\n",
    "                         'BMI',\n",
    "                         'Kroppslängd',\n",
    "                         'Kroppsvikt',\n",
    "                        ]]\n",
    "behandling = behandling[behandling['BehandlingsStatus'] == 'Opererad'] # Remove 'abrutna' operationer as they do not contain all relevant data\n",
    "print(\"Behandling length: {}\".format(len(behandling)))\n",
    "\n",
    "# Load ingrepp and select relevant columns\n",
    "ingrepp = pd.read_csv(Path('../20210324/with_name/op_ingrepp_namn.csv'))\n",
    "ingrepp = ingrepp[['Der_Behandling_PK',\n",
    "                   'Ingreppkod',\n",
    "                   'Primär_Sekundär',\n",
    "                   'Sida',\n",
    "                  ]]\n",
    "ingrepp = ingrepp[ingrepp['Primär_Sekundär'] == 'Primär'] # Might want to include this if we make a more complicated model\n",
    "print(\"Ingrepp length: {}\".format(len(ingrepp)))\n",
    "\n",
    "# Load diagnos and select relevant columns\n",
    "diagnos = pd.read_csv(Path('../20210324/with_name/op_diagnos_namn.csv'))\n",
    "diagnos = diagnos[['Der_Behandling_PK',\n",
    "                   'Diagnoskod',\n",
    "                   'Primär_Sekundär',\n",
    "                  ]]\n",
    "diagnos = diagnos[diagnos['Primär_Sekundär'] == 'Primär'] # Might want to include this if we make a more complicated model\n",
    "print(\"Diagnos length: {}\".format(len(diagnos)))\n",
    "\n",
    "# Combine the data frames\n",
    "combined_df = behandling.merge(diagnos, on='Der_Behandling_PK').merge(ingrepp, on='Der_Behandling_PK')\n",
    "print(\"Combined length: {}\".format(len(combined_df)))"
   ]
  },
  {
   "cell_type": "markdown",
   "metadata": {},
   "source": [
    "**CALCULATE AND ADD PREOPTIME TO DATAFRAME**"
   ]
  },
  {
   "cell_type": "code",
   "execution_count": null,
   "metadata": {
    "scrolled": true
   },
   "outputs": [],
   "source": [
    "# Bad algoritm for checking min and max time of förbereds\n",
    "start = combined_df[\"ForberedelsetidStartTidpunkt\"].dropna()\n",
    "slut = combined_df[\"ForberedelsetidSlutTidpunkt\"].dropna()\n",
    "\n",
    "start_times = []\n",
    "for time in start:\n",
    "    minn = int(time[-9:-7])\n",
    "    hour = int(time[-12:-10])\n",
    "    minutes = hour*60 + minn\n",
    "    start_times.append(minutes)\n",
    "    \n",
    "stop_times = []\n",
    "for time in slut:\n",
    "    minn = int(time[-9:-7])\n",
    "    hour = int(time[-12:-10])\n",
    "    minutes = hour*60 + minn\n",
    "    stop_times.append(minutes)\n",
    "\n",
    "times = []\n",
    "for i in range(len(start_times)):\n",
    "    #print(stop_times[i], start_times[i], stop_times[i] - start_times[i])\n",
    "    times.append(stop_times[i] - start_times[i])\n",
    "    \n",
    "print(max(times))\n",
    "print(min(times))\n",
    "\n",
    "# Add total time to dataframe\n",
    "combined_df['time'] = times"
   ]
  },
  {
   "cell_type": "markdown",
   "metadata": {},
   "source": [
    "**ASAKLASS**"
   ]
  },
  {
   "cell_type": "code",
   "execution_count": null,
   "metadata": {},
   "outputs": [],
   "source": [
    "asa_mean = []\n",
    "asa_std = []\n",
    "for i in range(6):\n",
    "    asa = combined_df[combined_df['ASAklass'] == i+1]\n",
    "    time = asa['time']\n",
    "    asa_mean.append(time.mean())\n",
    "    asa_std.append(time.std())\n",
    "\n",
    "ax = sns.boxplot(x='ASAklass', y='time', data=combined_df, color='#99c2a2')\n",
    "ax = sns.swarmplot(x='ASAklass', y='time', data=combined_df, color='#99c2a2', alpha=0.5)\n",
    "plt.xlabel('ASAklass')\n",
    "plt.ylabel('Preoptid')\n",
    "plt.title(\"ASAKLASS - Preoptid\")"
   ]
  },
  {
   "cell_type": "markdown",
   "metadata": {},
   "source": [
    "Nr of data points:\n",
    "* ASA 1 - 1935\n",
    "* ASA 2 - 1731\n",
    "* ASA 3 - 267\n",
    "* ASA 4 - 3"
   ]
  },
  {
   "cell_type": "markdown",
   "metadata": {},
   "source": [
    "**BMI, KROPPSVIKT, KROPPSLÄNGD**"
   ]
  },
  {
   "cell_type": "code",
   "execution_count": null,
   "metadata": {},
   "outputs": [],
   "source": [
    "combined_df = combined_df[combined_df['BMI'] < 200]\n",
    "\n",
    "sns.jointplot(x='Kroppslängd', y='time', data=combined_df, kind='hex')\n",
    "\n",
    "sns.jointplot(x='Kroppsvikt', y='time', data=combined_df, kind='hex')\n",
    "\n",
    "sns.jointplot(x='BMI', y='time', data=combined_df, kind='hex')\n"
   ]
  },
  {
   "cell_type": "markdown",
   "metadata": {},
   "source": [
    "**ÅLDER**"
   ]
  },
  {
   "cell_type": "code",
   "execution_count": null,
   "metadata": {},
   "outputs": [],
   "source": [
    "sns.jointplot(x='PatientÅlderVidOp', y='time', data=combined_df, kind='hex')\n",
    "plt.title('Ålder')\n",
    "plt.xlabel('Ålder (dagar)')\n",
    "plt.ylabel('Preoptid (min)')"
   ]
  },
  {
   "cell_type": "markdown",
   "metadata": {},
   "source": [
    "**VÅRDFORM**"
   ]
  },
  {
   "cell_type": "code",
   "execution_count": null,
   "metadata": {},
   "outputs": [],
   "source": [
    "form_mean = []\n",
    "form_std = []\n",
    "for i in range(2):\n",
    "    form = combined_df[combined_df['Der_Vårdform_FK'] == i+1]\n",
    "    time = form['time']\n",
    "    form_mean.append(time.mean())\n",
    "    form_std.append(time.std())\n",
    "\n",
    "sns.boxplot(x='Der_Vårdform_FK', y='time', data=combined_df, color='#99c2a2')\n",
    "sns.swarmplot(x='Der_Vårdform_FK', y='time', data=combined_df, color='#99c2a2', alpha=0.5)\n",
    "plt.xlabel('ASAklass')\n",
    "plt.ylabel('Preoptid')\n",
    "plt.title(\"ASAKLASS - Preoptid\")"
   ]
  },
  {
   "cell_type": "code",
   "execution_count": null,
   "metadata": {},
   "outputs": [],
   "source": [
    "plt.rcParams[\"figure.figsize\"] = (20,5)"
   ]
  },
  {
   "cell_type": "code",
   "execution_count": null,
   "metadata": {},
   "outputs": [],
   "source": [
    "diagnoser = {}\n",
    "for diagnost in combined_df['Diagnoskod']:\n",
    "    diagnos = diagnost[0]\n",
    "    if diagnos not in diagnoser.keys():\n",
    "        diagnoser[diagnos] = 1\n",
    "    else:\n",
    "        value = diagnoser[diagnos]\n",
    "        diagnoser[diagnos] = value +1\n",
    "print(diagnoser)"
   ]
  },
  {
   "cell_type": "code",
   "execution_count": null,
   "metadata": {},
   "outputs": [],
   "source": [
    "true_diagnoser = {}\n",
    "for diagnos in diagnoser:\n",
    "    if diagnos[0] == 'M' or diagnos[0] == 'G' or diagnos[0] == 'Z' or diagnos[0] == 'S' or diagnos[0] == 'T':\n",
    "        true_diagnoser[diagnos] = diagnoser[diagnos]\n",
    "\n",
    "combined_df = combined_df[combined_df['Diagnoskod'].isin(true_diagnoser)]\n",
    "#plt.bar(true_diagnoser.keys(), true_diagnoser.values())\n",
    "print(\"Nr of diagnoser: {}\".format(sum(true_diagnoser.values())))\n",
    "combined_df.head()"
   ]
  },
  {
   "cell_type": "code",
   "execution_count": null,
   "metadata": {},
   "outputs": [],
   "source": [
    "ingrepp_plural = {}\n",
    "ingreppsgrupp = []\n",
    "for index, row in combined_df.iterrows():\n",
    "    ingrepp = row['Ingreppkod']\n",
    "    ingrepp_group = ingrepp[0:2]\n",
    "    ingreppsgrupp.append(ingrepp_group)\n",
    "    if ingrepp_group not in ingrepp_plural.keys():\n",
    "        ingrepp_plural[ingrepp_group] = 1\n",
    "    else:\n",
    "        value = ingrepp_plural[ingrepp_group]\n",
    "        ingrepp_plural[ingrepp_group] = value +1\n",
    "print(ingrepp_plural)\n",
    "combined_df['IngreppsGrupp'] = ingreppsgrupp\n",
    "combined_df.head()"
   ]
  },
  {
   "cell_type": "code",
   "execution_count": null,
   "metadata": {},
   "outputs": [],
   "source": [
    "plt.rcParams.update({'font.size': 22})\n",
    "fig, ax = plt.subplots(figsize=(30, 10))\n",
    "ax.bar(ingrepp_plural.keys(), ingrepp_plural.values())\n",
    "fig.savefig('ingreppsgrupp_bar.PNG')"
   ]
  },
  {
   "cell_type": "code",
   "execution_count": null,
   "metadata": {},
   "outputs": [],
   "source": [
    "print(ingrepp_plural['NC'])"
   ]
  },
  {
   "cell_type": "code",
   "execution_count": null,
   "metadata": {},
   "outputs": [],
   "source": [
    "plt.bar(diagnoser.keys(), diagnoser.values())"
   ]
  },
  {
   "cell_type": "code",
   "execution_count": null,
   "metadata": {},
   "outputs": [],
   "source": [
    "features_df = combined_df.drop([\"Der_Behandling_PK\", \n",
    "                               \"Der_Opkort_FK\",\n",
    "                               \"Der_Anestesikort_FK\",\n",
    "                               \"BehandlingsStatus\",\n",
    "                               \"ForberedelsetidStartTidpunkt\",\n",
    "                               \"ForberedelsetidSlutTidpunkt\",\n",
    "                               \"Primär_Sekundär_x\",\n",
    "                               \"Primär_Sekundär_y\",\n",
    "                            ], axis='columns')\n",
    "features_df.head()"
   ]
  },
  {
   "cell_type": "code",
   "execution_count": null,
   "metadata": {},
   "outputs": [],
   "source": [
    "ingreppsgrupper = {}\n",
    "for ingreppsgrupp, ingreppsgrupp_df in features_df.groupby('IngreppsGrupp'):\n",
    "    ingreppsgrupper[ingreppsgrupp] = ingreppsgrupp_df"
   ]
  },
  {
   "cell_type": "code",
   "execution_count": null,
   "metadata": {},
   "outputs": [],
   "source": [
    "grupp_mean = []\n",
    "grupp_std = []\n",
    "features_df = features_df[features_df['IngreppsGrupp'].isin(['TN', 'NC', 'NH', 'NB', 'NG', 'NF', 'ND'])]\n",
    "for ingreppsgrupp in ingreppsgrupper.keys():\n",
    "    df = features_df[features_df['IngreppsGrupp'] == ingreppsgrupp]\n",
    "    grupp_mean.append(df['time'].mean())\n",
    "    grupp_std.append(df['time'].std())\n",
    "features_df.head()"
   ]
  },
  {
   "cell_type": "code",
   "execution_count": null,
   "metadata": {},
   "outputs": [],
   "source": [
    "sns.boxplot(x='IngreppsGrupp', y='time', data=features_df, color='#99c2a2')"
   ]
  },
  {
   "cell_type": "markdown",
   "metadata": {},
   "source": [
    "Preoptime seam to differ quite alot in different ingrepps groups"
   ]
  },
  {
   "cell_type": "code",
   "execution_count": null,
   "metadata": {},
   "outputs": [],
   "source": [
    "asa_mean = []\n",
    "asa_std = []\n",
    "for i in range(6):\n",
    "    asa = combined_df[combined_df['ASAklass'] == i+1]\n",
    "    time = asa['time']\n",
    "    asa_mean.append(time.mean())\n",
    "    asa_std.append(time.std())\n",
    "\n",
    "sns.boxplot(x='ASAklass', y='time', data=features_df, color='#99c2a2')\n",
    "sns.swarmplot(x='ASAklass', y='time', data=features_df, hue='IngreppsGrupp')\n",
    "plt.xlabel('ASAklass')\n",
    "plt.ylabel('Preoptid')\n",
    "plt.title(\"ASAKLASS - Preoptid\")"
   ]
  },
  {
   "cell_type": "code",
   "execution_count": null,
   "metadata": {},
   "outputs": [],
   "source": [
    "sns.jointplot(x='PatientÅlderVidOp', y='time', data=features_df, hue='IngreppsGrupp', kind='scatter')"
   ]
  },
  {
   "cell_type": "code",
   "execution_count": null,
   "metadata": {},
   "outputs": [],
   "source": [
    "sns.lineplot(x='Starttimme', y='time', data=features_df, color='#99c2a2')"
   ]
  },
  {
   "cell_type": "code",
   "execution_count": null,
   "metadata": {},
   "outputs": [],
   "source": []
  },
  {
   "cell_type": "code",
   "execution_count": null,
   "metadata": {},
   "outputs": [],
   "source": []
  },
  {
   "cell_type": "code",
   "execution_count": null,
   "metadata": {},
   "outputs": [],
   "source": []
  },
  {
   "cell_type": "code",
   "execution_count": null,
   "metadata": {},
   "outputs": [],
   "source": []
  }
 ],
 "metadata": {
  "kernelspec": {
   "display_name": "Python 3",
   "language": "python",
   "name": "python3"
  },
  "language_info": {
   "codemirror_mode": {
    "name": "ipython",
    "version": 3
   },
   "file_extension": ".py",
   "mimetype": "text/x-python",
   "name": "python",
   "nbconvert_exporter": "python",
   "pygments_lexer": "ipython3",
   "version": "3.8.5"
  }
 },
 "nbformat": 4,
 "nbformat_minor": 4
}
