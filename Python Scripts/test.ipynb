{
 "cells": [
  {
   "cell_type": "code",
   "execution_count": 2,
   "metadata": {},
   "outputs": [],
   "source": [
    "from pathlib import Path\n",
    "import pandas as pd\n",
    "import numpy as np\n",
    "import matplotlib.pyplot as plt\n",
    "import mpld3"
   ]
  },
  {
   "cell_type": "markdown",
   "metadata": {},
   "source": [
    "**Add column names**"
   ]
  },
  {
   "cell_type": "code",
   "execution_count": 2,
   "metadata": {},
   "outputs": [],
   "source": [
    "opkort = pd.read_csv(Path('../20210324/opkort.csv'), header=None, sep=';')\n",
    "opkort_gammal = pd.read_csv(Path('../inte_så_kul/res/gamla/op_kort_filt.csv'), sep=';')\n",
    "opkort.columns = opkort_gammal.columns\n",
    "opkort.to_csv(Path('../20210324/with_name/op_kort_namn.csv'))"
   ]
  },
  {
   "cell_type": "code",
   "execution_count": 3,
   "metadata": {},
   "outputs": [],
   "source": [
    "ingrepp = pd.read_csv(Path('../20210324/op_ingrepp.csv'), header=None, sep=';')\n",
    "ingrepp_gammal = pd.read_csv(Path('../inte_så_kul/res/gamla/ingrepp_ingrepp.csv'), sep=';')\n",
    "ingrepp.columns = ingrepp_gammal.columns\n",
    "ingrepp.to_csv(Path('../20210324/with_name/op_ingrepp_namn.csv'))"
   ]
  },
  {
   "cell_type": "code",
   "execution_count": 4,
   "metadata": {},
   "outputs": [],
   "source": [
    "diagnos = pd.read_csv(Path('../20210324/op_diagnos.csv'), header=None, sep=';')\n",
    "diagnos_gammal = pd.read_csv(Path('../inte_så_kul/res/gamla/ingrepp_diagnos.csv'), sep=';')\n",
    "diagnos.columns = diagnos_gammal.columns\n",
    "diagnos.to_csv(Path('../20210324/with_name/op_diagnos_namn.csv'))"
   ]
  },
  {
   "cell_type": "markdown",
   "metadata": {},
   "source": [
    "**LOAD DATA AND COMBINE INTO 1 DF**"
   ]
  },
  {
   "cell_type": "markdown",
   "metadata": {},
   "source": [
    "**Behandling**\n",
    "* Der_Behandling_PK\n",
    "* Der_Opkort_FK -> op_kort\n",
    "* Der_Anestesikort_FK -> Anestesikort (Har inte fått än)\n",
    "* Der_Vårdform_FK\n",
    "* Der_Prioritet_FK\n",
    "* BehandlingsStatus - Kanske behöver filtreras bort\n",
    "* ASAklass\n",
    "* Der_PeropUtskriventill_FK - Vad fan menas??\n",
    "* ForberedelsetidStartTidpunkt\n",
    "* ForberedelsetidSlutTidpunkt\n",
    "* PatientÅlderVidOp - står i dagar\n",
    "* Veckodag? kanske\n",
    "* Starttimme? kanske\n",
    "* BMI\n",
    "* Kroppslängd - del av BMI\n",
    "* Kroppsvikt - del av BMI\n",
    "\n",
    "**Op-kort** - Hur kopplas behandling till OP-kort (Tror inte att vi behöver någonting härifrån)\n",
    "* Der_Opkort_PK -> behandling\n",
    "* OpkortText - har en kod i början\n",
    "* OpkortUndergruppKod\n",
    "* OpkortHubudgruppKod\n",
    "* TidFöreMin - Är det kopplat till en behandling?\n",
    "\n",
    "**Op-ingrepp**\n",
    "* Der_Behandling_PK -> behandling\n",
    "* Ingreppskod - primär, kanske sekundär (se Primär_Sekundär)\n",
    "* Primär_Sekundär\n",
    "* Sida\n",
    "\n",
    "**Op-diagnos**\n",
    "* Der_Behandling_PK -> behandling\n",
    "* Diagnoskod - primär, kanske sekundär (se Primär_Sekundär)\n",
    "* Primär_Sekundär"
   ]
  },
  {
   "cell_type": "code",
   "execution_count": 3,
   "metadata": {},
   "outputs": [
    {
     "name": "stdout",
     "output_type": "stream",
     "text": [
      "Behandling length: 4581\n",
      "Ingrepp length: 4757\n",
      "Diagnos length: 4582\n",
      "Combined length: 4563\n"
     ]
    },
    {
     "name": "stderr",
     "output_type": "stream",
     "text": [
      "C:\\Users\\gidja1\\Anaconda3\\lib\\site-packages\\IPython\\core\\interactiveshell.py:3146: DtypeWarning: Columns (80,81) have mixed types.Specify dtype option on import or set low_memory=False.\n",
      "  has_raised = await self.run_ast_nodes(code_ast.body, cell_name,\n"
     ]
    }
   ],
   "source": [
    "# Lead behandling and select relevant columns\n",
    "behandling = pd.read_csv(Path('../20210324/with_name/behandling_optillfälle.csv'), sep=';')\n",
    "behandling = behandling[['Der_Behandling_PK',\n",
    "                         'Der_Opkort_FK',\n",
    "                         'Der_Anestesikort_FK',\n",
    "                         'Der_Vårdform_FK',\n",
    "                         'Der_Prioritet_FK',\n",
    "                         'BehandlingsStatus',\n",
    "                         'ASAklass',\n",
    "                         'ForberedelsetidStartTidpunkt',\n",
    "                         'ForberedelsetidSlutTidpunkt',\n",
    "                         'PatientÅlderVidOp',\n",
    "                         'Veckodag',\n",
    "                         'Starttimme',\n",
    "                         'BMI',\n",
    "                         'Kroppslängd',\n",
    "                         'Kroppsvikt',\n",
    "                        ]]\n",
    "behandling = behandling[behandling['BehandlingsStatus'] == 'Opererad'] # Remove 'abrutna' operationer as they do not contain all relevant data\n",
    "print(\"Behandling length: {}\".format(len(behandling)))\n",
    "\n",
    "# Load ingrepp and select relevant columns\n",
    "ingrepp = pd.read_csv(Path('../20210324/with_name/op_ingrepp_namn.csv'))\n",
    "ingrepp = ingrepp[['Der_Behandling_PK',\n",
    "                   'Ingreppkod',\n",
    "                   'Primär_Sekundär',\n",
    "                   'Sida',\n",
    "                  ]]\n",
    "ingrepp = ingrepp[ingrepp['Primär_Sekundär'] == 'Primär'] # Might want to include this if we make a more complicated model\n",
    "print(\"Ingrepp length: {}\".format(len(ingrepp)))\n",
    "\n",
    "# Load diagnos and select relevant columns\n",
    "diagnos = pd.read_csv(Path('../20210324/with_name/op_diagnos_namn.csv'))\n",
    "diagnos = diagnos[['Der_Behandling_PK',\n",
    "                   'Diagnoskod',\n",
    "                   'Primär_Sekundär',\n",
    "                  ]]\n",
    "diagnos = diagnos[diagnos['Primär_Sekundär'] == 'Primär'] # Might want to include this if we make a more complicated model\n",
    "print(\"Diagnos length: {}\".format(len(diagnos)))\n",
    "\n",
    "# Combine the data frames\n",
    "combined_df = behandling.merge(diagnos, on='Der_Behandling_PK').merge(ingrepp, on='Der_Behandling_PK')\n",
    "print(\"Combined length: {}\".format(len(combined_df)))"
   ]
  },
  {
   "cell_type": "markdown",
   "metadata": {},
   "source": [
    "**CALCULATE AND ADD PREOPTIME TO DATAFRAME**"
   ]
  },
  {
   "cell_type": "code",
   "execution_count": 4,
   "metadata": {
    "scrolled": true
   },
   "outputs": [
    {
     "name": "stdout",
     "output_type": "stream",
     "text": [
      "414\n",
      "0\n"
     ]
    }
   ],
   "source": [
    "# Bad algoritm for checking min and max time of förbereds\n",
    "start = combined_df[\"ForberedelsetidStartTidpunkt\"].dropna()\n",
    "slut = combined_df[\"ForberedelsetidSlutTidpunkt\"].dropna()\n",
    "\n",
    "start_times = []\n",
    "for time in start:\n",
    "    minn = int(time[-9:-7])\n",
    "    hour = int(time[-12:-10])\n",
    "    minutes = hour*60 + minn\n",
    "    start_times.append(minutes)\n",
    "    \n",
    "stop_times = []\n",
    "for time in slut:\n",
    "    minn = int(time[-9:-7])\n",
    "    hour = int(time[-12:-10])\n",
    "    minutes = hour*60 + minn\n",
    "    stop_times.append(minutes)\n",
    "\n",
    "times = []\n",
    "for i in range(len(start_times)):\n",
    "    #print(stop_times[i], start_times[i], stop_times[i] - start_times[i])\n",
    "    times.append(stop_times[i] - start_times[i])\n",
    "    \n",
    "print(max(times))\n",
    "print(min(times))\n",
    "\n",
    "# Add total time to dataframe\n",
    "combined_df['time'] = times"
   ]
  },
  {
   "cell_type": "markdown",
   "metadata": {},
   "source": [
    "**ASAKLASS**"
   ]
  },
  {
   "cell_type": "code",
   "execution_count": 5,
   "metadata": {},
   "outputs": [
    {
     "data": {
      "text/plain": [
       "Text(0.5, 1.0, 'ASAKLASS - Preoptid')"
      ]
     },
     "execution_count": 5,
     "metadata": {},
     "output_type": "execute_result"
    },
    {
     "data": {
      "image/png": "[encoded data removed]",
      "text/plain": [
       "<Figure size 432x288 with 1 Axes>"
      ]
     },
     "metadata": {
      "needs_background": "light"
     },
     "output_type": "display_data"
    }
   ],
   "source": [
    "asa_mean = []\n",
    "asa_std = []\n",
    "for i in range(6):\n",
    "    asa = combined_df[combined_df['ASAklass'] == i+1]\n",
    "    time = asa['time']\n",
    "    asa_mean.append(time.mean())\n",
    "    asa_std.append(time.std())\n",
    "    \n",
    "plt.errorbar(['1', '2', '3', '4', '5', '6'], asa_mean, asa_std, marker='o', linestyle='None', capsize=3)\n",
    "plt.xlabel('ASAklass')\n",
    "plt.ylabel('Preoptid')\n",
    "plt.title(\"ASAKLASS - Preoptid\")"
   ]
  },
  {
   "cell_type": "markdown",
   "metadata": {},
   "source": [
    "Nr of data points:\n",
    "* ASA 1 - 1935\n",
    "* ASA 2 - 1731\n",
    "* ASA 3 - 267\n",
    "* ASA 4 - 3"
   ]
  },
  {
   "cell_type": "markdown",
   "metadata": {},
   "source": [
    "**BMI, KROPPSVIKT, KROPPSLÄNGD**"
   ]
  },
  {
   "cell_type": "code",
   "execution_count": 6,
   "metadata": {},
   "outputs": [
    {
     "data": {
      "text/plain": [
       "<matplotlib.collections.PathCollection at 0x29177e5fd90>"
      ]
     },
     "execution_count": 6,
     "metadata": {},
     "output_type": "execute_result"
    },
    {
     "data": {
      "image/png": "[encoded data removed]",
      "text/plain": [
       "<Figure size 432x288 with 2 Axes>"
      ]
     },
     "metadata": {
      "needs_background": "light"
     },
     "output_type": "display_data"
    },
    {
     "data": {
      "image/png": "[encoded data removed]",
      "text/plain": [
       "<Figure size 432x288 with 1 Axes>"
      ]
     },
     "metadata": {
      "needs_background": "light"
     },
     "output_type": "display_data"
    }
   ],
   "source": [
    "figure, axis = plt.subplots(1,2)\n",
    "axis[1].set_box_aspect(1)\n",
    "axis[0].set_box_aspect(1)\n",
    "\n",
    "axis[0].set_title('Kroppsvikt')\n",
    "axis[0].set_ylabel('Preoptid (min)')\n",
    "axis[0].set_xlabel('Kroppsvikt (kg)')\n",
    "\n",
    "axis[1].set_title('Kroppslängd')\n",
    "axis[1].set_xlabel('Kroppslängd (cm)')\n",
    "\n",
    "axis[0].scatter(combined_df['Kroppsvikt'], combined_df['time'])\n",
    "axis[1].scatter(combined_df['Kroppslängd'], combined_df['time'])\n",
    "\n",
    "figure2, axis2 = plt.subplots(1)\n",
    "axis2.set_title('BMI')\n",
    "axis2.set_ylabel('Preoptid (min)')\n",
    "axis2.set_xlabel('BMI (kg/m2)')\n",
    "axis2.scatter(combined_df['BMI'], combined_df['time'])"
   ]
  },
  {
   "cell_type": "markdown",
   "metadata": {},
   "source": [
    "**ÅLDER**"
   ]
  },
  {
   "cell_type": "code",
   "execution_count": 7,
   "metadata": {},
   "outputs": [
    {
     "data": {
      "text/plain": [
       "Text(0, 0.5, 'Preoptid (min)')"
      ]
     },
     "execution_count": 7,
     "metadata": {},
     "output_type": "execute_result"
    },
    {
     "data": {
      "image/png": "[encoded data removed]",
      "text/plain": [
       "<Figure size 432x288 with 1 Axes>"
      ]
     },
     "metadata": {
      "needs_background": "light"
     },
     "output_type": "display_data"
    }
   ],
   "source": [
    "plt.scatter(combined_df['PatientÅlderVidOp']/365, combined_df['time'])\n",
    "plt.title('Ålder')\n",
    "plt.xlabel('Ålder (dagar)')\n",
    "plt.ylabel('Preoptid (min)')"
   ]
  },
  {
   "cell_type": "markdown",
   "metadata": {},
   "source": [
    "**VÅRDFORM**"
   ]
  },
  {
   "cell_type": "code",
   "execution_count": 8,
   "metadata": {},
   "outputs": [
    {
     "data": {
      "text/plain": [
       "<ErrorbarContainer object of 3 artists>"
      ]
     },
     "execution_count": 8,
     "metadata": {},
     "output_type": "execute_result"
    },
    {
     "data": {
      "image/png": "[encoded data removed]",
      "text/plain": [
       "<Figure size 432x288 with 1 Axes>"
      ]
     },
     "metadata": {
      "needs_background": "light"
     },
     "output_type": "display_data"
    }
   ],
   "source": [
    "form_mean = []\n",
    "form_std = []\n",
    "for i in range(2):\n",
    "    form = combined_df[combined_df['Der_Vårdform_FK'] == i+1]\n",
    "    time = form['time']\n",
    "    form_mean.append(time.mean())\n",
    "    form_std.append(time.std())\n",
    "    \n",
    "plt.errorbar(['1','2'], form_mean, form_std, marker='o', linestyle='None', capsize=3)"
   ]
  },
  {
   "cell_type": "code",
   "execution_count": 9,
   "metadata": {},
   "outputs": [],
   "source": [
    "plt.rcParams[\"figure.figsize\"] = (20,5)"
   ]
  },
  {
   "cell_type": "code",
   "execution_count": 22,
   "metadata": {},
   "outputs": [
    {
     "name": "stdout",
     "output_type": "stream",
     "text": [
      "{'T': 607, 'M': 1440, 'S': 2060, 'G': 160, 'Z': 181}\n"
     ]
    }
   ],
   "source": [
    "diagnoser = {}\n",
    "for diagnost in combined_df['Diagnoskod']:\n",
    "    diagnos = diagnost[0]\n",
    "    if diagnos not in diagnoser.keys():\n",
    "        diagnoser[diagnos] = 1\n",
    "    else:\n",
    "        value = diagnoser[diagnos]\n",
    "        diagnoser[diagnos] = value +1\n",
    "print(diagnoser)"
   ]
  },
  {
   "cell_type": "code",
   "execution_count": 11,
   "metadata": {},
   "outputs": [
    {
     "name": "stdout",
     "output_type": "stream",
     "text": [
      "      Der_Behandling_PK  Der_Opkort_FK  Der_Anestesikort_FK  Der_Vårdform_FK  \\\n",
      "0                387543         130348                   -1                2   \n",
      "1                509966          26159                   -1                2   \n",
      "2                695604         177053                 5095                2   \n",
      "3                482134          26020                 5914                2   \n",
      "4                299790         130609                 5909                2   \n",
      "...                 ...            ...                  ...              ...   \n",
      "4556             100097          77362                 4984                2   \n",
      "4558             668988          28502                 5909                2   \n",
      "4559             223046          63230                 6012                2   \n",
      "4560             295019          58909                 5914                2   \n",
      "4561             294111          58947                 6026                2   \n",
      "\n",
      "      Der_Prioritet_FK BehandlingsStatus  ASAklass  \\\n",
      "0                    2          Opererad       NaN   \n",
      "1                    3          Opererad       NaN   \n",
      "2                    1          Opererad       3.0   \n",
      "3                    5          Opererad       1.0   \n",
      "4                    6          Opererad       NaN   \n",
      "...                ...               ...       ...   \n",
      "4556                 1          Opererad       1.0   \n",
      "4558                 3          Opererad       3.0   \n",
      "4559                 6          Opererad       2.0   \n",
      "4560                 5          Opererad       2.0   \n",
      "4561                 3          Opererad       3.0   \n",
      "\n",
      "     ForberedelsetidStartTidpunkt ForberedelsetidSlutTidpunkt  \\\n",
      "0         2019-09-27 07:19:00.000     2019-09-27 09:15:00.000   \n",
      "1         2020-10-20 07:14:00.000     2020-10-20 07:43:00.000   \n",
      "2         2021-03-01 16:10:00.000     2021-03-01 17:38:00.000   \n",
      "3         2020-02-11 11:08:00.000     2020-02-11 11:54:00.000   \n",
      "4         2020-12-14 10:22:00.000     2020-12-14 11:57:00.000   \n",
      "...                           ...                         ...   \n",
      "4556      2018-06-19 12:45:00.000     2018-06-19 14:48:00.000   \n",
      "4558      2021-02-22 06:50:00.000     2021-02-22 09:03:00.000   \n",
      "4559      2019-11-04 12:25:00.000     2019-11-04 13:26:00.000   \n",
      "4560      2019-07-09 07:10:00.000     2019-07-09 08:52:00.000   \n",
      "4561      2019-05-07 13:55:00.000     2019-05-07 14:41:00.000   \n",
      "\n",
      "      PatientÅlderVidOp  ...  Starttimme   BMI  Kroppslängd  Kroppsvikt  \\\n",
      "0               29434.0  ...         8.0   NaN          NaN         NaN   \n",
      "1               16841.0  ...         7.0   NaN          NaN         NaN   \n",
      "2               15658.0  ...        16.0  24.4        173.0        73.0   \n",
      "3               27854.0  ...        11.0  29.1        169.0        83.0   \n",
      "4               21777.0  ...        10.0  24.4        190.0        88.0   \n",
      "...                 ...  ...         ...   ...          ...         ...   \n",
      "4556            14967.0  ...        13.0  25.0        197.0        97.0   \n",
      "4558            20914.0  ...         7.0  40.0        174.0       121.0   \n",
      "4559            24705.0  ...        12.0  21.1        174.0        64.0   \n",
      "4560            20532.0  ...         7.0  27.7        174.0        84.0   \n",
      "4561            31839.0  ...        13.0  22.4        165.0        61.0   \n",
      "\n",
      "      Diagnoskod Primär_Sekundär_x Ingreppkod Primär_Sekundär_y     Sida time  \n",
      "0           T840            Primär      TNG10            Primär    Höger  116  \n",
      "1           M258            Primär      TNH10            Primär    Höger   29  \n",
      "2          S5250            Primär      NCJ69            Primär  Vänster   88  \n",
      "3           T932            Primär      NHU49            Primär  Vänster   46  \n",
      "4           M610            Primär      NCH31            Primär  Vänster   95  \n",
      "...          ...               ...        ...               ...      ...  ...  \n",
      "4556       S4200            Primär      NBJ69            Primär    Höger  123  \n",
      "4558        M258            Primär      NFA21            Primär  Vänster  133  \n",
      "4559       M840C            Primär      NCK59            Primär  Vänster   61  \n",
      "4560       M190H            Primär      NHK18            Primär    Höger  102  \n",
      "4561        M205            Primär      NHK58            Primär    Höger   46  \n",
      "\n",
      "[4448 rows x 21 columns]\n",
      "Nr of diagnoser: 4448\n"
     ]
    }
   ],
   "source": [
    "true_diagnoser = {}\n",
    "for diagnos in diagnoser:\n",
    "    if diagnos[0] == 'M' or diagnos[0] == 'G' or diagnos[0] == 'Z' or diagnos[0] == 'S' or diagnos[0] == 'T':\n",
    "        true_diagnoser[diagnos] = diagnoser[diagnos]\n",
    "\n",
    "combined_df = combined_df[combined_df['Diagnoskod'].isin(true_diagnoser)]\n",
    "print(combined_df)\n",
    "#plt.bar(true_diagnoser.keys(), true_diagnoser.values())\n",
    "print(\"Nr of diagnoser: {}\".format(sum(true_diagnoser.values())))"
   ]
  },
  {
   "cell_type": "code",
   "execution_count": 12,
   "metadata": {},
   "outputs": [
    {
     "name": "stdout",
     "output_type": "stream",
     "text": [
      "{'TN': 442, 'NC': 1005, 'NH': 737, 'NB': 649, 'NG': 932, 'TA': 5, 'NF': 244, 'ND': 280, 'AC': 65, 'ZZ': 11, 'QC': 4, 'PG': 2, 'QD': 11, 'XN': 27, 'AB': 1, 'QB': 1, 'DQ': 4, 'DR': 1, 'TQ': 1, 'NE': 7, 'XX': 14, 'AV': 5}\n"
     ]
    }
   ],
   "source": [
    "ingrepp_plural = {}\n",
    "ingreppsgrupp = []\n",
    "for index, row in combined_df.iterrows():\n",
    "    ingrepp = row['Ingreppkod']\n",
    "    ingrepp_group = ingrepp[0:2]\n",
    "    ingreppsgrupp.append(ingrepp_group)\n",
    "    if ingrepp_group not in ingrepp_plural.keys():\n",
    "        ingrepp_plural[ingrepp_group] = 1\n",
    "    else:\n",
    "        value = ingrepp_plural[ingrepp_group]\n",
    "        ingrepp_plural[ingrepp_group] = value +1\n",
    "print(ingrepp_plural)\n",
    "combined_df['ingreppsGrupp'] = ingreppsgrupp"
   ]
  },
  {
   "cell_type": "code",
   "execution_count": 13,
   "metadata": {},
   "outputs": [
    {
     "data": {
      "text/plain": [
       "<BarContainer object of 22 artists>"
      ]
     },
     "execution_count": 13,
     "metadata": {},
     "output_type": "execute_result"
    },
    {
     "data": {
      "image/png": "[encoded data removed]",
      "text/plain": [
       "<Figure size 1440x360 with 1 Axes>"
      ]
     },
     "metadata": {
      "needs_background": "light"
     },
     "output_type": "display_data"
    }
   ],
   "source": [
    "plt.bar(ingrepp_plural.keys(), ingrepp_plural.values())"
   ]
  },
  {
   "cell_type": "code",
   "execution_count": 23,
   "metadata": {},
   "outputs": [
    {
     "data": {
      "text/plain": [
       "<BarContainer object of 5 artists>"
      ]
     },
     "execution_count": 23,
     "metadata": {},
     "output_type": "execute_result"
    },
    {
     "data": {
      "image/png": "[encoded data removed]",
      "text/plain": [
       "<Figure size 1440x360 with 1 Axes>"
      ]
     },
     "metadata": {
      "needs_background": "light"
     },
     "output_type": "display_data"
    }
   ],
   "source": [
    "plt.bar(diagnoser.keys(), diagnoser.values())"
   ]
  },
  {
   "cell_type": "code",
   "execution_count": 14,
   "metadata": {},
   "outputs": [
    {
     "data": {
      "text/html": [
       "<div>\n",
       "<style scoped>\n",
       "    .dataframe tbody tr th:only-of-type {\n",
       "        vertical-align: middle;\n",
       "    }\n",
       "\n",
       "    .dataframe tbody tr th {\n",
       "        vertical-align: top;\n",
       "    }\n",
       "\n",
       "    .dataframe thead th {\n",
       "        text-align: right;\n",
       "    }\n",
       "</style>\n",
       "<table border=\"1\" class=\"dataframe\">\n",
       "  <thead>\n",
       "    <tr style=\"text-align: right;\">\n",
       "      <th></th>\n",
       "      <th>Der_Vårdform_FK</th>\n",
       "      <th>Der_Prioritet_FK</th>\n",
       "      <th>ASAklass</th>\n",
       "      <th>PatientÅlderVidOp</th>\n",
       "      <th>Veckodag</th>\n",
       "      <th>Starttimme</th>\n",
       "      <th>BMI</th>\n",
       "      <th>Kroppslängd</th>\n",
       "      <th>Kroppsvikt</th>\n",
       "      <th>Diagnoskod</th>\n",
       "      <th>Ingreppkod</th>\n",
       "      <th>Sida</th>\n",
       "      <th>time</th>\n",
       "      <th>ingreppsGrupp</th>\n",
       "    </tr>\n",
       "  </thead>\n",
       "  <tbody>\n",
       "    <tr>\n",
       "      <th>0</th>\n",
       "      <td>2</td>\n",
       "      <td>2</td>\n",
       "      <td>NaN</td>\n",
       "      <td>29434.0</td>\n",
       "      <td>5.0</td>\n",
       "      <td>8.0</td>\n",
       "      <td>NaN</td>\n",
       "      <td>NaN</td>\n",
       "      <td>NaN</td>\n",
       "      <td>T840</td>\n",
       "      <td>TNG10</td>\n",
       "      <td>Höger</td>\n",
       "      <td>116</td>\n",
       "      <td>TN</td>\n",
       "    </tr>\n",
       "    <tr>\n",
       "      <th>1</th>\n",
       "      <td>2</td>\n",
       "      <td>3</td>\n",
       "      <td>NaN</td>\n",
       "      <td>16841.0</td>\n",
       "      <td>2.0</td>\n",
       "      <td>7.0</td>\n",
       "      <td>NaN</td>\n",
       "      <td>NaN</td>\n",
       "      <td>NaN</td>\n",
       "      <td>M258</td>\n",
       "      <td>TNH10</td>\n",
       "      <td>Höger</td>\n",
       "      <td>29</td>\n",
       "      <td>TN</td>\n",
       "    </tr>\n",
       "    <tr>\n",
       "      <th>2</th>\n",
       "      <td>2</td>\n",
       "      <td>1</td>\n",
       "      <td>3.0</td>\n",
       "      <td>15658.0</td>\n",
       "      <td>1.0</td>\n",
       "      <td>16.0</td>\n",
       "      <td>24.4</td>\n",
       "      <td>173.0</td>\n",
       "      <td>73.0</td>\n",
       "      <td>S5250</td>\n",
       "      <td>NCJ69</td>\n",
       "      <td>Vänster</td>\n",
       "      <td>88</td>\n",
       "      <td>NC</td>\n",
       "    </tr>\n",
       "    <tr>\n",
       "      <th>3</th>\n",
       "      <td>2</td>\n",
       "      <td>5</td>\n",
       "      <td>1.0</td>\n",
       "      <td>27854.0</td>\n",
       "      <td>2.0</td>\n",
       "      <td>11.0</td>\n",
       "      <td>29.1</td>\n",
       "      <td>169.0</td>\n",
       "      <td>83.0</td>\n",
       "      <td>T932</td>\n",
       "      <td>NHU49</td>\n",
       "      <td>Vänster</td>\n",
       "      <td>46</td>\n",
       "      <td>NH</td>\n",
       "    </tr>\n",
       "    <tr>\n",
       "      <th>4</th>\n",
       "      <td>2</td>\n",
       "      <td>6</td>\n",
       "      <td>NaN</td>\n",
       "      <td>21777.0</td>\n",
       "      <td>1.0</td>\n",
       "      <td>10.0</td>\n",
       "      <td>24.4</td>\n",
       "      <td>190.0</td>\n",
       "      <td>88.0</td>\n",
       "      <td>M610</td>\n",
       "      <td>NCH31</td>\n",
       "      <td>Vänster</td>\n",
       "      <td>95</td>\n",
       "      <td>NC</td>\n",
       "    </tr>\n",
       "  </tbody>\n",
       "</table>\n",
       "</div>"
      ],
      "text/plain": [
       "   Der_Vårdform_FK  Der_Prioritet_FK  ASAklass  PatientÅlderVidOp  Veckodag  \\\n",
       "0                2                 2       NaN            29434.0       5.0   \n",
       "1                2                 3       NaN            16841.0       2.0   \n",
       "2                2                 1       3.0            15658.0       1.0   \n",
       "3                2                 5       1.0            27854.0       2.0   \n",
       "4                2                 6       NaN            21777.0       1.0   \n",
       "\n",
       "   Starttimme   BMI  Kroppslängd  Kroppsvikt Diagnoskod Ingreppkod     Sida  \\\n",
       "0         8.0   NaN          NaN         NaN       T840      TNG10    Höger   \n",
       "1         7.0   NaN          NaN         NaN       M258      TNH10    Höger   \n",
       "2        16.0  24.4        173.0        73.0      S5250      NCJ69  Vänster   \n",
       "3        11.0  29.1        169.0        83.0       T932      NHU49  Vänster   \n",
       "4        10.0  24.4        190.0        88.0       M610      NCH31  Vänster   \n",
       "\n",
       "   time ingreppsGrupp  \n",
       "0   116            TN  \n",
       "1    29            TN  \n",
       "2    88            NC  \n",
       "3    46            NH  \n",
       "4    95            NC  "
      ]
     },
     "execution_count": 14,
     "metadata": {},
     "output_type": "execute_result"
    }
   ],
   "source": [
    "fetures_df = combined_df.drop([\"Der_Behandling_PK\", \n",
    "                               \"Der_Opkort_FK\",\n",
    "                               \"Der_Anestesikort_FK\",\n",
    "                               \"BehandlingsStatus\",\n",
    "                               \"ForberedelsetidStartTidpunkt\",\n",
    "                               \"ForberedelsetidSlutTidpunkt\",\n",
    "                               \"Primär_Sekundär_x\",\n",
    "                               \"Primär_Sekundär_y\",\n",
    "                            ], axis='columns')\n",
    "fetures_df.head()"
   ]
  },
  {
   "cell_type": "code",
   "execution_count": 15,
   "metadata": {},
   "outputs": [],
   "source": [
    "ingreppsgrupper = {}\n",
    "for ingreppsgrupp, ingreppsgrupp_df in fetures_df.groupby('ingreppsGrupp'):\n",
    "    ingreppsgrupper[ingreppsgrupp] = ingreppsgrupp_df"
   ]
  },
  {
   "cell_type": "code",
   "execution_count": 16,
   "metadata": {},
   "outputs": [],
   "source": [
    "grupp_mean = []\n",
    "grupp_std = []\n",
    "for ingreppsgrupp in ingreppsgrupper.keys():\n",
    "    df = fetures_df[fetures_df['ingreppsGrupp'] == ingreppsgrupp]\n",
    "    grupp_mean.append(df['time'].mean())\n",
    "    grupp_std.append(df['time'].std())"
   ]
  },
  {
   "cell_type": "code",
   "execution_count": 17,
   "metadata": {},
   "outputs": [
    {
     "data": {
      "text/plain": [
       "<ErrorbarContainer object of 3 artists>"
      ]
     },
     "execution_count": 17,
     "metadata": {},
     "output_type": "execute_result"
    },
    {
     "data": {
      "image/png": "[encoded data removed]",
      "text/plain": [
       "<Figure size 1440x360 with 1 Axes>"
      ]
     },
     "metadata": {
      "needs_background": "light"
     },
     "output_type": "display_data"
    }
   ],
   "source": [
    "plt.errorbar(ingreppsgrupper.keys(), grupp_mean, grupp_std, marker='o', linestyle='None', capsize=3)"
   ]
  },
  {
   "cell_type": "markdown",
   "metadata": {},
   "source": [
    "Preoptime seam to differ quite alot in different ingrepps groups"
   ]
  },
  {
   "cell_type": "code",
   "execution_count": null,
   "metadata": {},
   "outputs": [],
   "source": []
  },
  {
   "cell_type": "code",
   "execution_count": null,
   "metadata": {},
   "outputs": [],
   "source": []
  }
 ],
 "metadata": {
  "kernelspec": {
   "display_name": "Python 3",
   "language": "python",
   "name": "python3"
  },
  "language_info": {
   "codemirror_mode": {
    "name": "ipython",
    "version": 3
   },
   "file_extension": ".py",
   "mimetype": "text/x-python",
   "name": "python",
   "nbconvert_exporter": "python",
   "pygments_lexer": "ipython3",
   "version": "3.8.5"
  }
 },
 "nbformat": 4,
 "nbformat_minor": 4
}
